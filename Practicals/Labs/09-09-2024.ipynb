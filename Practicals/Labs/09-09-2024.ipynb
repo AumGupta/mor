{
 "cells": [
  {
   "cell_type": "code",
   "execution_count": 14,
   "metadata": {},
   "outputs": [],
   "source": [
    "class Cuboid:\n",
    "    def __init__(self, l, b, h):\n",
    "        self.ln = l\n",
    "        self.br = b\n",
    "        self.hi = h\n",
    "    def peri(self):\n",
    "        return 4*(self.ln+self.br+self.hi)\n",
    "    def vol(self):\n",
    "        return self.ln*self.br*self.hi"
   ]
  },
  {
   "cell_type": "code",
   "execution_count": 15,
   "metadata": {},
   "outputs": [
    {
     "name": "stdout",
     "output_type": "stream",
     "text": [
      "Perimeter is 24\n",
      "Volume is 6\n"
     ]
    }
   ],
   "source": [
    "c1 = Cuboid(1,2,3)\n",
    "perimeter = c1.peri()\n",
    "volume = c1.vol()\n",
    "print(f'Perimeter is {perimeter}')\n",
    "print(f'Volume is {volume}')"
   ]
  },
  {
   "cell_type": "code",
   "execution_count": 26,
   "metadata": {},
   "outputs": [
    {
     "name": "stdout",
     "output_type": "stream",
     "text": [
      "Perimeter is 24\n",
      "Volume is 6\n"
     ]
    }
   ],
   "source": [
    "class Rectangle:\n",
    "    def __init__(self, l, b):\n",
    "        self.ln = l\n",
    "        self.br = b\n",
    "    def peri(self):\n",
    "        return 2*(self.ln+self.br)\n",
    "    def area(self):\n",
    "        return self.ln*self.br\n",
    "\n",
    "class Cuboid(Rectangle):\n",
    "    def __init__(self, l, b, h):\n",
    "        super().__init__(l, b)\n",
    "        self.hi = h\n",
    "    def vol(self):\n",
    "        return self.area()*self.hi\n",
    "    def peri(self):\n",
    "        return 4*(self.ln+self.br+self.hi)\n",
    "\n",
    "c2 = Cuboid(1,2,3)\n",
    "perimeter = c2.peri()\n",
    "volume = c2.vol()\n",
    "print(f'Perimeter is {perimeter}')\n",
    "print(f'Volume is {volume}')\n",
    "\n",
    "eoq = EOQ()"
   ]
  },
  {
   "cell_type": "markdown",
   "metadata": {},
   "source": []
  }
 ],
 "metadata": {
  "kernelspec": {
   "display_name": "base",
   "language": "python",
   "name": "python3"
  },
  "language_info": {
   "codemirror_mode": {
    "name": "ipython",
    "version": 3
   },
   "file_extension": ".py",
   "mimetype": "text/x-python",
   "name": "python",
   "nbconvert_exporter": "python",
   "pygments_lexer": "ipython3",
   "version": "3.12.4"
  }
 },
 "nbformat": 4,
 "nbformat_minor": 2
}
