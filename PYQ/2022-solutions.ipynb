{
 "cells": [
  {
   "cell_type": "markdown",
   "metadata": {},
   "source": [
    "# [Python Programming 2022](https://github.com/AumGupta/mor-python/blob/master/PYQ/2022-question-paper.pdf) - Solutions"
   ]
  },
  {
   "cell_type": "markdown",
   "metadata": {},
   "source": [
    "## 1. d) What is the difference between deep and shallow copy?\n",
    "\n",
    "### **Difference Between Deep Copy and Shallow Copy**\n",
    "\n",
    "| **Aspect**           | **Shallow Copy**                               | **Deep Copy**                                |\n",
    "|-----------------------|-----------------------------------------------|----------------------------------------------|\n",
    "| **Definition**        | Copies the outer object but maintains references to the nested objects. | Copies the outer object and recursively copies all nested objects. |\n",
    "| **Effect on Nested Objects** | Changes to nested objects in the original affect the shallow copy. | Changes to nested objects in the original do **not** affect the deep copy. |\n",
    "| **Performance**       | Faster, as it copies only references.          | Slower, as it performs a recursive copy of all nested structures. |\n",
    "| **Use Case**          | Use when you only need to copy the outer object structure. | Use when you need complete independence of copied objects. |\n",
    "||||\n",
    "| **Code Example**      | import copy                                   | import copy                                  |\n",
    "|                       | original = [[1, 2], [3, 4]]                   | original = [[1, 2], [3, 4]]                  |\n",
    "|                       | shallow = copy.copy(original)                 | deep = copy.deepcopy(original)              |\n",
    "|                       | shallow[0][0] = 99                            | deep[0][0] = 99                              |\n",
    "|                       | print(original)  # Output: [[99, 2], [3, 4]]  | print(original)  # Output: [[1, 2], [3, 4]]  |"
   ]
  },
  {
   "cell_type": "code",
   "execution_count": null,
   "metadata": {},
   "outputs": [
    {
     "name": "stdout",
     "output_type": "stream",
     "text": [
      "[[99, 2], [3, 4]]\n",
      "[[1, 2], [3, 4]]\n"
     ]
    }
   ],
   "source": [
    "import copy\n",
    "\n",
    "\n",
    "# Shallow Copy\n",
    "original = [[1, 2], [3, 4]]\n",
    "shallow = copy.copy(original)\n",
    "shallow[0][0] = 99\n",
    "print(original)  # Output: [[99, 2], [3, 4]]\n",
    "\n",
    "# Deep Copy\n",
    "original = [[1, 2], [3, 4]]\n",
    "deep = copy.deepcopy(original)\n",
    "deep[0][0] = 99\n",
    "print(original)  # Output: [[1, 2], [3, 4]]\n"
   ]
  },
  {
   "cell_type": "markdown",
   "metadata": {},
   "source": [
    "---"
   ]
  },
  {
   "cell_type": "markdown",
   "metadata": {},
   "source": [
    "## 1. e) What do you mean by indentation in python? Is indentation required in python?\n",
    "\n",
    "- Indentation refers to the spaces or tabs at the beginning of a line of code to define the structure or grouping of statements. It is used to indicate blocks of code under constructs like loops, conditionals, functions, or classes.  \n",
    "\n",
    "- Yes, indentation is **mandatory** in Python. It defines the scope of loops, conditionals, functions, and classes. Incorrect indentation will lead to a syntax error.  \n",
    "\n",
    "Example:  \n",
    "\n",
    "```python\n",
    "if True:  # Condition\n",
    "    print(\"This is indented correctly.\")  # Part of the 'if' block\n",
    "```\n",
    "\n",
    "Here, the line with `print` is indented to signify it belongs to the `if` block."
   ]
  },
  {
   "cell_type": "markdown",
   "metadata": {},
   "source": [
    "---"
   ]
  },
  {
   "cell_type": "markdown",
   "metadata": {},
   "source": [
    "## 2. d) Write a programme that takes a positive integer n and produce in line of output as shown below:\n",
    "```py\n",
    "1\n",
    "2 3\n",
    "4 5 6\n",
    "7 8 9\n",
    "```"
   ]
  },
  {
   "cell_type": "code",
   "execution_count": 32,
   "metadata": {},
   "outputs": [
    {
     "name": "stdout",
     "output_type": "stream",
     "text": [
      "1 \n",
      "2 3 \n",
      "4 5 6 \n",
      "7 8 9 "
     ]
    }
   ],
   "source": [
    "n = int(input(\"Enter a positive integer: \"))\n",
    "\n",
    "num = 1\n",
    "for row in range(1, n + 1):  \n",
    "    for _ in range(row):\n",
    "        if num <= n:\n",
    "            print(num, end=\" \")\n",
    "            num += 1\n",
    "    if num <= n: \n",
    "        print()\n"
   ]
  },
  {
   "cell_type": "markdown",
   "metadata": {},
   "source": [
    "---"
   ]
  },
  {
   "cell_type": "markdown",
   "metadata": {},
   "source": [
    "## 2. f) What is the importance of user defined module? Discuss different in-built modules of Python.\n",
    "\n",
    "**Importance of User-Defined Modules:**  \n",
    "User-defined modules in Python allow programmers to reuse code across multiple programs by organizing related functions and classes into separate files. They promote modularity, code reusability, and maintainability by allowing developers to import and use only the required functionality.  \n",
    "\n",
    "**Common Built-in Modules in Python:**  \n",
    "\n",
    "| **Module**          | **Purpose**                                          |\n",
    "|---------------------|------------------------------------------------------|\n",
    "| `math`              | Provides mathematical functions like `sqrt()`, `sin()`, `cos()`. |\n",
    "| `random`            | Used for generating random numbers or performing random selections. |\n",
    "| `datetime`          | Handles date and time manipulation.                  |\n",
    "| `os`                | Allows interaction with the operating system (file management). |\n",
    "| `sys`               | Provides access to system-specific parameters and functions. |\n",
    "| `re`                | Used for working with regular expressions.           |\n",
    "| `json`              | Used for JSON parsing and encoding/decoding.        |\n",
    "| `time`              | Provides functions related to time, such as delays.  |\n",
    "\n",
    "These modules are pre-installed in Python and can be directly imported for use."
   ]
  },
  {
   "cell_type": "markdown",
   "metadata": {},
   "source": [
    "---"
   ]
  },
  {
   "cell_type": "markdown",
   "metadata": {},
   "source": [
    "## "
   ]
  },
  {
   "cell_type": "markdown",
   "metadata": {},
   "source": [
    "## 5. a) Create a module named area having four functions named triangle, square, rectangle, and circle. All these functions takes arguments according to their shape; compute and returns the area of the shape. Import the module in the main program and call the respective function depending on the user requirement and compute the area of respective shape.\n",
    "\n",
    "**Code for module `area.py`:**"
   ]
  },
  {
   "cell_type": "code",
   "execution_count": 36,
   "metadata": {},
   "outputs": [],
   "source": [
    "import math  # Importing math for circle area calculation\n",
    "\n",
    "# Function to calculate the area of a triangle\n",
    "def triangle(base, height):\n",
    "    return 0.5 * base * height\n",
    "\n",
    "# Function to calculate the area of a square\n",
    "def square(side):\n",
    "    return side ** 2\n",
    "\n",
    "# Function to calculate the area of a rectangle\n",
    "def rectangle(length, width):\n",
    "    return length * width\n",
    "\n",
    "# Function to calculate the area of a circle\n",
    "def circle(radius):\n",
    "    return math.pi * radius ** 2"
   ]
  },
  {
   "cell_type": "markdown",
   "metadata": {},
   "source": [
    "\n",
    "**Main Program to Import and Use the Module:**\n",
    "\n",
    "Now, we'll import the `area` module and allow the user to select the shape type to compute the area.\n",
    "\n",
    "**Code for `main.py`:**"
   ]
  },
  {
   "cell_type": "code",
   "execution_count": 38,
   "metadata": {},
   "outputs": [
    {
     "name": "stdout",
     "output_type": "stream",
     "text": [
      "Choose a shape to calculate area:\n",
      "1. Triangle\n",
      "2. Square\n",
      "3. Rectangle\n",
      "4. Circle\n",
      "Area of circle: 153.93804002589985\n"
     ]
    }
   ],
   "source": [
    "# main.py\n",
    "\n",
    "import area  # Import the area module\n",
    "\n",
    "# Menu for user interaction\n",
    "print(\"Choose a shape to calculate area:\")\n",
    "print(\"1. Triangle\")\n",
    "print(\"2. Square\")\n",
    "print(\"3. Rectangle\")\n",
    "print(\"4. Circle\")\n",
    "\n",
    "choice = int(input(\"Enter your choice (1/2/3/4): \"))\n",
    "\n",
    "# Based on user choice, calculate and display the respective area\n",
    "if choice == 1:\n",
    "    base = float(input(\"Enter base of the triangle: \"))\n",
    "    height = float(input(\"Enter height of the triangle: \"))\n",
    "    print(\"Area of triangle:\", area.triangle(base, height))\n",
    "\n",
    "elif choice == 2:\n",
    "    side = float(input(\"Enter the side of the square: \"))\n",
    "    print(\"Area of square:\", area.square(side))\n",
    "\n",
    "elif choice == 3:\n",
    "    length = float(input(\"Enter the length of the rectangle: \"))\n",
    "    width = float(input(\"Enter the width of the rectangle: \"))\n",
    "    print(\"Area of rectangle:\", area.rectangle(length, width))\n",
    "\n",
    "elif choice == 4:\n",
    "    radius = float(input(\"Enter the radius of the circle: \"))\n",
    "    print(\"Area of circle:\", area.circle(radius))\n",
    "\n",
    "else:\n",
    "    print(\"Invalid choice. Please select a valid option.\")\n"
   ]
  },
  {
   "cell_type": "markdown",
   "metadata": {},
   "source": [
    "**Sample Run**\n",
    "\n",
    "When executed, the program will show:\n",
    "\n",
    "```\n",
    "Choose a shape to calculate area:\n",
    "1. Triangle\n",
    "2. Square\n",
    "3. Rectangle\n",
    "4. Circle\n",
    "Enter your choice (1/2/3/4): 4\n",
    "Enter the radius of the circle: 7\n",
    "Area of circle: 153.93804002589985\n",
    "```"
   ]
  },
  {
   "cell_type": "markdown",
   "metadata": {},
   "source": [
    "---"
   ]
  },
  {
   "cell_type": "markdown",
   "metadata": {},
   "source": [
    "## 5. b) Discuss at-least 4 different ways to create a dictionary.\n",
    "\n",
    "| **Method**                  | **Example Code**                                                      | **Description**                                               |\n",
    "|------------------------------|------------------------------------------------------------------------|-----------------------------------------------------------------|\n",
    "| **Using Curly Braces `{}`**  | `d = {\"name\": \"Alice\", \"age\": 25}`                              | Directly create a dictionary using key-value pairs.            |\n",
    "| **Using `dict()` Constructor** | `d = dict(name=\"Alice\", age=25)`                                 | Create a dictionary by passing key-value arguments.            |\n",
    "| **Using List of Tuples**     | `d = dict([(\"name\", \"Alice\"), (\"age\", 25)])`                    | Create dictionary from a list of key-value pair tuples.        |\n",
    "| **Using Dictionary Comprehension** | `d = {x: x * 2 for x in range(5)}`                              | Dynamically create a dictionary programmatically with logic.    |\n",
    "| **Using `zip()` function** | `d = dict(zip(['a','b','c'],[1,2,3]))` | Create dictionary from two iterables having key and values via zip() |"
   ]
  },
  {
   "cell_type": "markdown",
   "metadata": {},
   "source": [
    "---"
   ]
  },
  {
   "cell_type": "markdown",
   "metadata": {},
   "source": [
    "## 5. f) What does PIP stands for? Why is it utilized? \n",
    "- **PIP** stands for **\"Pip Installs Packages\"** (However pip doesn't have a universally accepted full form). It is the **package installer for Python**.\n",
    "\n",
    "- PIP is utilized to **install, manage, and remove third-party Python libraries and packages** that are not part of the standard library. It simplifies the process of managing dependencies for Python projects.\n",
    "\n",
    "- example usage:\n",
    "\n",
    "  ```bash\n",
    "  pip install <package_name>\n",
    "  ```"
   ]
  },
  {
   "cell_type": "markdown",
   "metadata": {},
   "source": [
    "---"
   ]
  },
  {
   "cell_type": "markdown",
   "metadata": {},
   "source": []
  }
 ],
 "metadata": {
  "kernelspec": {
   "display_name": "base",
   "language": "python",
   "name": "python3"
  },
  "language_info": {
   "codemirror_mode": {
    "name": "ipython",
    "version": 3
   },
   "file_extension": ".py",
   "mimetype": "text/x-python",
   "name": "python",
   "nbconvert_exporter": "python",
   "pygments_lexer": "ipython3",
   "version": "3.12.4"
  }
 },
 "nbformat": 4,
 "nbformat_minor": 2
}
