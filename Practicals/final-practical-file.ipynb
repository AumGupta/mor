{
 "cells": [
  {
   "cell_type": "markdown",
   "metadata": {},
   "source": [
    "1. WAP to compute the roots of a quadratic equation. \n",
    "\n",
    "2. WAP to play Stone, Paper, Scissors with Computer. \n",
    "\n",
    "3. Write a program for BMI Calculator with Categorization of underweight, normal weight and overweight. \n",
    "\n",
    "4. WAP to demonstrate exception handling of Zero Division Error. \n",
    "\n",
    "5. WAP to demonstrate OOPs using user defined Cuboid Class. \n",
    "\n",
    "6. WAP to demonstrate inheritance in OOPs using user defined Rectangle and Cuboid Class. \n",
    "\n",
    "7. Write a Program to implement Inheritance. Create a class Employee inherit two classes Manager and Clerk from Employee. \n",
    "\n",
    "8. WAP to demonstrate the demarcation of class variable and instance variable in OOP using Employee Class. \n",
    "\n",
    "9. Write a Program to determine EOQ using various inventory models. \n",
    "\n",
    "10. Write a Program to determine different characteristics using various Queuing models. \n",
    "\n",
    "11. WAP to plot a graph for function (y=X2).  \n",
    "\n",
    "12. WAP to fit poisson distribution on a given data.  \n",
    "\n",
    "13. Write a python function that calculates the pierson correlation cofficient between two lists of numbers.  \n",
    "\n",
    "14. Write a python function that calculates Spareman correlation cofficient.\n",
    "\n",
    "15. Using matplotlib plot histogram of list of numbers.  \n",
    "\n",
    "16. Write a python function that calculates the Z-score for the lists of numbers.  \n",
    "\n",
    "17. WAP to test the significance of two sample means.  \n",
    "\n",
    "18. WAP to test the goodness of fit of a given dataset on binomial distribution.  \n",
    "\n",
    "19. WAP to test significance of two sample variance.  \n",
    "\n",
    "20. WAP to implement linear regression in python.  \n",
    "\n",
    "21. WAP to plot piechart on consumption of water in daily life.  \n",
    "\n",
    "22. WAP to plot bar chart to display result for 10th, 12th, 1st year, 2nd year, 3rd year CGPA.  \n",
    "\n",
    "23. WAP to perform various statistical measures using pandas.  \n",
    "\n",
    "24. WAP to perform read and write operations with csv files.  \n",
    "\n",
    "25. WAP to compute values of Sin x using taylor series.  \n",
    "\n",
    "26. WAP to display the following pattern \n",
    "```python\n",
    "                5\n",
    "               45\n",
    "              345\n",
    "             2345\n",
    "            12345\n",
    "```\n",
    "\n",
    "27. WAP to find if a nummber or string is palindrome or not.  \n",
    "\n",
    "28. WAP to find greatest of number using loop.  \n",
    "\n",
    "29. WAP to print fibonacci series.  \n",
    "\n",
    "30. WAP to find factorial using recursion.  \n",
    "\n",
    "31. WAP to find if a number is armstrong or not.  \n",
    "\n",
    "32. Write a menu driven program to find the reverse of a number and sum of digits. "
   ]
  },
  {
   "cell_type": "markdown",
   "metadata": {},
   "source": [
    "### 1. WAP to compute the roots of a quadratic equation. "
   ]
  },
  {
   "cell_type": "code",
   "execution_count": 21,
   "metadata": {},
   "outputs": [
    {
     "name": "stdout",
     "output_type": "stream",
     "text": [
      "Given equation is:\n",
      "1.0x² + 2.0x + 1.0\n",
      "Root is x = -1.00\n"
     ]
    }
   ],
   "source": [
    "a = float(input(\"Enter the coefficient of x\\N{SUPERSCRIPT TWO}: \"))\n",
    "if a==0:\n",
    "    print(\"Not a quadratic equation.\\nThe coefficient of x\\N{SUPERSCRIPT TWO}, needs to be non-zero.\")\n",
    "else:\n",
    "    b = float(input(\"Enter the coefficient of x: \"))\n",
    "    c = float(input(\"Enter the constant term: \"))\n",
    "    # Formatting the equation for maximum readability.\n",
    "    print(f\"Given equation is:\\n{a}x\\N{SUPERSCRIPT TWO}{\"\" if b==0 else str(\" + \" if b>0 else \" - \")+str(abs(b))+\"x \"}{\"\" if c==0 else str(\"+ \" if c>0 else \"- \")+str(abs(c))}\")\n",
    "    from math import sqrt\n",
    "    # Discriminant\n",
    "    d = b*b-4*a*c\n",
    "    if d>0:\n",
    "        d = sqrt(d)\n",
    "        root1 = (-b+d)/(2*a)\n",
    "        root2 = (-b-d)/(2*a)\n",
    "        print(f\"Roots are x = {root1:2.2f}, {root2:2.2f}\")\n",
    "    elif d == 0:\n",
    "        d = sqrt(d)\n",
    "        root1 = (-b+d)/(2*a)\n",
    "        print(f\"Root is x = {root1:2.2f}\")\n",
    "    else:\n",
    "        print(f\"Since, discriminant ({d}) < 0\\nTherefore, no real roots exist.\")"
   ]
  },
  {
   "cell_type": "markdown",
   "metadata": {},
   "source": [
    "\n",
    "### 2. WAP to play Stone, Paper, Scissors with Computer. \n"
   ]
  },
  {
   "cell_type": "code",
   "execution_count": 22,
   "metadata": {},
   "outputs": [
    {
     "name": "stdout",
     "output_type": "stream",
     "text": [
      "You Picked -> Paper\n",
      "Computer Picked -> Stone\n",
      "\n",
      "Result -> You Won!\n"
     ]
    }
   ],
   "source": [
    "u = int(input(f\"1. Stone\\n2. Paper\\n3. Scissors\\nEnter your choice (1/2/3): \"))\n",
    "if u>3 or u<1:\n",
    "    print(\"Incorrect Choice. Please choose from 1/2/3.\")\n",
    "else:\n",
    "    from random import randint\n",
    "    c = randint(1,3)\n",
    "    l = ['Stone', 'Paper', 'Scissors']\n",
    "    print(f\"You Picked -> {l[u-1]}\\nComputer Picked -> {l[c-1]}\")\n",
    "    print(\"\\nResult -> \",end=\"\")\n",
    "    if u==c:\n",
    "        print(\"Draw\")\n",
    "    elif (u==1 and c==3) or (u==2 and c==1) or (u==3 and c==2):\n",
    "        print(\"You Won!\")\n",
    "    else:\n",
    "        print(\"Computer Won!\")\n"
   ]
  },
  {
   "cell_type": "markdown",
   "metadata": {},
   "source": [
    "\n",
    "### 3. Write a program for $BMI$ Calculator with Categorization of underweight, normal weight and overweight. \n",
    "\n",
    "\n",
    "#### BMI Categories\n",
    "\n",
    "Underweight: $BMI < 18.5$\\\n",
    "Normal weight: $18.5 <= BMI < 24.9$\\\n",
    "Overweight: $25 <= BMI < 29.9$\\\n",
    "Obesity: $BMI >= 30$\n"
   ]
  },
  {
   "cell_type": "code",
   "execution_count": 23,
   "metadata": {},
   "outputs": [
    {
     "name": "stdout",
     "output_type": "stream",
     "text": [
      "Weight: 70.0kg\n",
      "Height: 169.5m\n",
      "Your BMI is: 0.00\n",
      "You are underweight.\n"
     ]
    }
   ],
   "source": [
    "# Input: weight (kg) and height (m)\n",
    "weight = float(input(\"Enter your weight in kg: \"))\n",
    "height = float(input(\"Enter your height in meters: \"))\n",
    "\n",
    "print(f\"Weight: {weight}kg\")\n",
    "print(f\"Height: {height}m\")\n",
    "bmi = weight / (height ** 2)\n",
    "\n",
    "print(f\"Your BMI is: {bmi:.2f}\")\n",
    "\n",
    "# Categorization\n",
    "if bmi < 18.5:\n",
    "    print(\"You are underweight.\")\n",
    "elif 18.5 <= bmi < 24.9:\n",
    "    print(\"You have a normal weight.\")\n",
    "elif 25 <= bmi < 29.9:\n",
    "    print(\"You are overweight.\")\n",
    "else:\n",
    "    print(\"You are obese.\")\n"
   ]
  },
  {
   "cell_type": "markdown",
   "metadata": {},
   "source": [
    "\n",
    "### 4. WAP to demonstrate exception handling of Zero Division Error. \n"
   ]
  },
  {
   "cell_type": "code",
   "execution_count": 24,
   "metadata": {},
   "outputs": [
    {
     "name": "stdout",
     "output_type": "stream",
     "text": [
      "Division by 0 is not possible.\n"
     ]
    }
   ],
   "source": [
    "a = int(input(\"Enter Dividend: \"))\n",
    "b = int(input(\"Enter a Divisor: \"))\n",
    "\n",
    "try:\n",
    "    c = a/b\n",
    "    print(f\"{a}/{b} = {c}\")\n",
    "except ZeroDivisionError as e:\n",
    "    print(\"Division by 0 is not possible.\")"
   ]
  },
  {
   "cell_type": "markdown",
   "metadata": {},
   "source": [
    "\n",
    "### 5. WAP to demonstrate OOPs using user defined Cuboid Class. \n"
   ]
  },
  {
   "cell_type": "code",
   "execution_count": 25,
   "metadata": {},
   "outputs": [
    {
     "name": "stdout",
     "output_type": "stream",
     "text": [
      "Perimeter is 24\n",
      "Volume is 6\n"
     ]
    }
   ],
   "source": [
    "class Cuboid:\n",
    "    def __init__(self, l, b, h):\n",
    "        self.ln = l\n",
    "        self.br = b\n",
    "        self.hi = h\n",
    "    def peri(self):\n",
    "        \"\"\"Compute perimeter of the cuboid.\"\"\"\n",
    "        return 4*(self.ln+self.br+self.hi)\n",
    "    def vol(self):\n",
    "        \"\"\"Compute volume of the cuboid.\"\"\"\n",
    "        return self.ln*self.br*self.hi\n",
    "c1 = Cuboid(1,2,3)\n",
    "perimeter = c1.peri()\n",
    "volume = c1.vol()\n",
    "print(f'Perimeter is {perimeter}')\n",
    "print(f'Volume is {volume}')"
   ]
  },
  {
   "cell_type": "markdown",
   "metadata": {},
   "source": [
    "\n",
    "### 6. WAP to demonstrate inheritance in OOPs using user defined Rectangle and Cuboid Class. \n"
   ]
  },
  {
   "cell_type": "code",
   "execution_count": 26,
   "metadata": {},
   "outputs": [
    {
     "name": "stdout",
     "output_type": "stream",
     "text": [
      "Perimeter is 32\n",
      "Volume is 18\n"
     ]
    }
   ],
   "source": [
    "class Rectangle:\n",
    "    def __init__(self, l, b):\n",
    "        self.ln = l\n",
    "        self.br = b\n",
    "    def peri(self):\n",
    "        \"\"\"Compute perimeter of the rectangle.\"\"\"\n",
    "        return 2*(self.ln+self.br)\n",
    "    def area(self):\n",
    "        \"\"\"Compute area of the rectangle.\"\"\"\n",
    "        return self.ln*self.br\n",
    "\n",
    "class Cuboid(Rectangle):\n",
    "    def __init__(self, l, b, h):\n",
    "        super().__init__(l, b)\n",
    "        self.hi = h\n",
    "    def vol(self):\n",
    "        \"\"\"Compute volume of the cuboid.\"\"\"\n",
    "        return self.area()*self.hi\n",
    "    def peri(self):\n",
    "        \"\"\"Compute perimeter of the cuboid.\"\"\"\n",
    "        return 4*(self.ln+self.br+self.hi)\n",
    "\n",
    "c2 = Cuboid(3,2,3)\n",
    "perimeter = c2.peri()\n",
    "volume = c2.vol()\n",
    "print(f'Perimeter is {perimeter}')\n",
    "print(f'Volume is {volume}')\n"
   ]
  },
  {
   "cell_type": "markdown",
   "metadata": {},
   "source": [
    "\n",
    "### 7. Write a Program to implement Inheritance. Create a class Employee inherit two classes Manager and Clerk from Employee. \n"
   ]
  },
  {
   "cell_type": "code",
   "execution_count": 27,
   "metadata": {},
   "outputs": [
    {
     "name": "stdout",
     "output_type": "stream",
     "text": [
      "Manager Details:\n",
      "Employee ID: 32347\n",
      "Name: Rahul\n",
      "Age: 45\n",
      "Salary: 120000\n",
      "Department: HR\n",
      "Position: Manager\n",
      "\n",
      "Clerk Details:\n",
      "Employee ID: 12345\n",
      "Name: Ashish\n",
      "Age: 30\n",
      "Salary: 40000\n",
      "Experience: 5 years\n",
      "Position: Clerk\n"
     ]
    }
   ],
   "source": [
    "class Employee:\n",
    "    def __init__(self, empid, name, age, salary):\n",
    "        self.empid = empid\n",
    "        self.name = name\n",
    "        self.age = age\n",
    "        self.salary = salary\n",
    "    \n",
    "    def display_info(self):\n",
    "        print(f\"Employee ID: {self.empid}\")\n",
    "        print(f\"Name: {self.name}\")\n",
    "        print(f\"Age: {self.age}\")\n",
    "        print(f\"Salary: {self.salary}\")\n",
    "\n",
    "class Manager(Employee):\n",
    "    def __init__(self, empid, name, age, salary, department):\n",
    "        super().__init__(empid, name, age, salary) \n",
    "        self.department = department\n",
    "    \n",
    "    def display_manager_info(self):\n",
    "        self.display_info()\n",
    "        print(f\"Department: {self.department}\")\n",
    "        print(\"Position: Manager\")\n",
    "\n",
    "class Clerk(Employee):\n",
    "    def __init__(self, empid, name, age, salary, experience):\n",
    "        super().__init__(empid, name, age, salary)\n",
    "        self.experience = experience\n",
    "    \n",
    "    def display_clerk_info(self):\n",
    "        self.display_info()\n",
    "        print(f\"Experience: {self.experience} years\")\n",
    "        print(\"Position: Clerk\")\n",
    "\n",
    "manager = Manager(32347 ,\"Rahul\", 45, 120000, \"HR\")\n",
    "clerk = Clerk(12345, \"Ashish\", 30, 40000, 5)\n",
    "\n",
    "print(\"Manager Details:\")\n",
    "manager.display_manager_info()\n",
    "\n",
    "print(\"\\nClerk Details:\")\n",
    "clerk.display_clerk_info()"
   ]
  },
  {
   "cell_type": "markdown",
   "metadata": {},
   "source": [
    "\n",
    "### 8. WAP to demonstrate the demarcation of class variable and instance variable in OOP using Employee Class. \n"
   ]
  },
  {
   "cell_type": "code",
   "execution_count": 28,
   "metadata": {},
   "outputs": [
    {
     "name": "stdout",
     "output_type": "stream",
     "text": [
      "Employee 1 Details:\n",
      "Employee Name: Rahul\n",
      "Employee Age: 45\n",
      "Employee Salary: 120000\n",
      "Company: Bajaj Tech\n",
      "\n",
      "Employee 2 Details:\n",
      "Employee Name: Ashish\n",
      "Employee Age: 30\n",
      "Employee Salary: 40000\n",
      "Company: Bajaj Tech\n",
      "\n",
      "Number of Employees (Accessed via Class): 2\n",
      "\n",
      "After changing the company name for all employees:\n",
      "\n",
      "Employee 1 Details:\n",
      "Employee Name: Rahul\n",
      "Employee Age: 45\n",
      "Employee Salary: 120000\n",
      "Company: New Bajaj Tech\n",
      "\n",
      "Employee 2 Details:\n",
      "Employee Name: Ashish\n",
      "Employee Age: 30\n",
      "Employee Salary: 40000\n",
      "Company: New Bajaj Tech\n"
     ]
    }
   ],
   "source": [
    "class Employee:\n",
    "    # Class variable: shared by all instances\n",
    "    company_name = \"Bajaj Tech\"\n",
    "    emp_count = 0\n",
    "    \n",
    "    def __init__(self, name, age, salary):\n",
    "        # Instance variables: unique to each instance\n",
    "        self.name = name\n",
    "        self.age = age\n",
    "        self.salary = salary\n",
    "        Employee.emp_count += 1 # Accessing class variable\n",
    "\n",
    "    def display_info(self):\n",
    "        \"\"\"Display information of the Employee.\"\"\"\n",
    "        print(f\"Employee Name: {self.name}\")\n",
    "        print(f\"Employee Age: {self.age}\")\n",
    "        print(f\"Employee Salary: {self.salary}\")\n",
    "        print(f\"Company: {Employee.company_name}\")  # Accessing class variable\n",
    "\n",
    "\n",
    "emp1 = Employee(\"Rahul\", 45, 120000)\n",
    "emp2 = Employee(\"Ashish\", 30, 40000)\n",
    "\n",
    "print(\"Employee 1 Details:\")\n",
    "emp1.display_info()\n",
    "\n",
    "print(\"\\nEmployee 2 Details:\")\n",
    "emp2.display_info()\n",
    "\n",
    "# Accessing the class variable directly from the class\n",
    "print(f\"\\nNumber of Employees (Accessed via Class): {Employee.emp_count}\")\n",
    "\n",
    "# Modifying the class variable\n",
    "Employee.company_name = \"New Bajaj Tech\"\n",
    "\n",
    "# Display information again after modifying the class variable\n",
    "print(\"\\nAfter changing the company name for all employees:\\n\")\n",
    "\n",
    "print(\"Employee 1 Details:\")\n",
    "emp1.display_info()\n",
    "\n",
    "print(\"\\nEmployee 2 Details:\")\n",
    "emp2.display_info()\n"
   ]
  },
  {
   "cell_type": "markdown",
   "metadata": {},
   "source": [
    "\n",
    "### 9. Write a Program to determine EOQ using various inventory models. \n"
   ]
  },
  {
   "cell_type": "code",
   "execution_count": 29,
   "metadata": {},
   "outputs": [],
   "source": [
    "from abc import ABC, abstractmethod\n",
    "from math import sqrt\n",
    "class DetModels(ABC):\n",
    "    @abstractmethod\n",
    "    def get_quantity():\n",
    "        pass\n",
    "    @abstractmethod\n",
    "    def get_total_cost():\n",
    "        pass\n",
    "    def get_cycle_time(self, Q, lam):\n",
    "        return Q/lam\n",
    "\n",
    "class EOQ(DetModels):\n",
    "    def get_quantity(self, A, lam, I, C):\n",
    "        return int(sqrt((2*A*lam)/(I*C)))\n",
    "    def get_total_cost(self, A, lam, I, C, Q):\n",
    "        holding_cost = (I * C * (Q / 2))\n",
    "        ordering_cost = A * (lam / Q)\n",
    "        total_cost = holding_cost + ordering_cost\n",
    "        return total_cost\n",
    "    \n",
    "class EPQ(DetModels):\n",
    "    def get_quantity(self, A, lam, I, C, si):\n",
    "        return int(sqrt((2*A*lam*si)/(I*C*(si-lam))))\n",
    "    def get_total_cost(self, A, lam, I, C, Q, si):\n",
    "        holding_cost = (I * C * Q * (si - lam)) / (2 * si)\n",
    "        setup_cost = A * (lam / Q)\n",
    "        total_cost = holding_cost + setup_cost\n",
    "        return total_cost\n",
    "\n",
    "class EOQ_Short(DetModels):\n",
    "    def get_quantity(self, A, lam, I, C, pi):\n",
    "        return int(sqrt((2*A*lam*(pi + I*C))/(I*C*pi)))\n",
    "    def get_total_cost(self, A, lam, I, C, Q, pi):\n",
    "        Q_r = Q * (I * C) / (pi + I * C)\n",
    "        holding_cost = I * C * (Q / 2)\n",
    "        ordering_cost = A * (lam / Q)\n",
    "        shortage_cost = pi * (Q - Q_r) / 2\n",
    "        total_cost = holding_cost + ordering_cost + shortage_cost\n",
    "        return total_cost\n",
    "    \n",
    "class EPQ_Short(DetModels):\n",
    "    def get_quantity(self, A, lam, I, C, si, pi):\n",
    "        return int(sqrt((2*A*lam*(pi + I*C)*si)/(I*C*pi*(si-lam))))\n",
    "    def get_total_cost(self, A, lam, I, C, Q, si, pi):\n",
    "        Q_r = Q * (I * C) / (pi + I * C)\n",
    "        holding_cost = (I * C * Q * (si - lam)) / (2 * si)\n",
    "        setup_cost = A * (lam / Q)\n",
    "        shortage_cost = pi * (Q - Q_r) / 2\n",
    "        total_cost = holding_cost + setup_cost + shortage_cost\n",
    "        return total_cost"
   ]
  },
  {
   "cell_type": "code",
   "execution_count": 31,
   "metadata": {},
   "outputs": [
    {
     "name": "stdout",
     "output_type": "stream",
     "text": [
      "\n",
      "Running for EOQ\n",
      "Quantity = 316 units\n",
      "Total Cost = $6324.56\n",
      "Cycle Time = 11.53 days\n",
      "\n",
      "Running for EPQ\n",
      "Quantity = 774 units\n",
      "Total Cost = $3691.22\n",
      "Cycle Time = 11.53 days\n",
      "\n",
      "Running for EOQ with Shortage\n",
      "Quantity = 1048 units\n",
      "Total Cost = $6353.28\n",
      "Cycle Time = 11.53 days\n",
      "\n",
      "Running for EPQ with Shortage\n",
      "Quantity = 2569 units\n",
      "Total Cost = $3719.95\n",
      "Cycle Time = 11.53 days\n"
     ]
    }
   ],
   "source": [
    "# Sample Run\n",
    "A = float(input(\"Enter ordering cost per order (A): \")) # 100\n",
    "lam = float(input(\"Enter demand rate (lambda): \")) # 10000\n",
    "I = float(input(\"Enter inventory carrying cost rate (I): \")) # 0.2\n",
    "C = float(input(\"Enter unit cost of item (C): \")) # 200\n",
    "\n",
    "print(\"\\nRunning for EOQ\")\n",
    "my_eoq = EOQ()\n",
    "Q = my_eoq.get_quantity(A, lam, I, C)\n",
    "tc = my_eoq.get_total_cost(A, lam, I, C, Q)\n",
    "T = my_eoq.get_cycle_time(Q, lam)\n",
    "print(f\"Quantity = {Q} units\")\n",
    "print(f\"Total Cost = ${tc:2.2f}\")\n",
    "print(f\"Cycle Time = {T*365:2.2f} days\")\n",
    "\n",
    "si = float(input(\"Enter production rate (s): \")) # 12000\n",
    "print(\"\\nRunning for EPQ\")\n",
    "my_epq = EPQ()\n",
    "Q2 = my_epq.get_quantity(A, lam, I, C, si)\n",
    "tc = my_epq.get_total_cost(A, lam, I, C, Q, si)\n",
    "T = my_epq.get_cycle_time(Q, lam)\n",
    "print(f\"Quantity = {Q2} units\")\n",
    "print(f\"Total Cost = ${tc:2.2f}\")\n",
    "print(f\"Cycle Time = {T*365:2.2f} days\")\n",
    "\n",
    "pi = float(input(\"Enter shortage cost per unit (p): \")) # 2\n",
    "print(\"\\nRunning for EOQ with Shortage\")\n",
    "my_eoq_short = EOQ_Short()\n",
    "Q3 = my_eoq_short.get_quantity(A, lam, I, C, pi)\n",
    "tc = my_eoq_short.get_total_cost(A, lam, I, C, Q, pi)\n",
    "T = my_eoq_short.get_cycle_time(Q, lam)\n",
    "print(f\"Quantity = {Q3} units\")\n",
    "print(f\"Total Cost = ${tc:2.2f}\")\n",
    "print(f\"Cycle Time = {T*365:2.2f} days\")\n",
    "\n",
    "print(\"\\nRunning for EPQ with Shortage\")\n",
    "my_epq_short = EPQ_Short()\n",
    "Q4 = my_epq_short.get_quantity(A, lam, I, C, si, pi)\n",
    "tc = my_epq_short.get_total_cost(A, lam, I, C, Q, si, pi)\n",
    "T = my_epq_short.get_cycle_time(Q, lam)\n",
    "print(f\"Quantity = {Q4} units\")\n",
    "print(f\"Total Cost = ${tc:2.2f}\")\n",
    "print(f\"Cycle Time = {T*365:2.2f} days\")\n"
   ]
  },
  {
   "cell_type": "code",
   "execution_count": 32,
   "metadata": {},
   "outputs": [
    {
     "data": {
      "image/png": "[encoded data removed]",
      "text/plain": [
       "<Figure size 600x600 with 1 Axes>"
      ]
     },
     "metadata": {},
     "output_type": "display_data"
    }
   ],
   "source": [
    "# Visualising Q for each model\n",
    "import matplotlib.pyplot as plt\n",
    "\n",
    "l = [Q, Q2, Q3, Q4]\n",
    "names = [\"EOQ\", \"EPQ\", \"EOQ Shortage\", \"EPQ Shortage\"]\n",
    "\n",
    "plt.figure(figsize=(6,6))\n",
    "plt.bar(names, l, color = 'r',edgecolor='k',linewidth=2)\n",
    "plt.ylabel(\"Qty\")\n",
    "plt.xlabel(\"Deterministic Models\")\n",
    "plt.title(\"MODEL COMPARISON OF QUANTITY ORDERED\")\n",
    "plt.show()"
   ]
  },
  {
   "cell_type": "markdown",
   "metadata": {},
   "source": [
    "\n",
    "### 10. Write a Program to determine different characteristics using various Queuing models. \n"
   ]
  },
  {
   "cell_type": "code",
   "execution_count": 33,
   "metadata": {},
   "outputs": [],
   "source": [
    "from math import factorial\n",
    "\n",
    "class MM1:\n",
    "    def __init__(self, lam, mu):\n",
    "        self.lam = lam  # Arrival rate\n",
    "        self.mu = mu    # Service rate\n",
    "        self.rho = lam / mu  # Traffic intensity\n",
    "\n",
    "    def get_pn(self, n):\n",
    "        \"\"\" Probability of having n customers in the system \"\"\"\n",
    "        return (1 - self.rho) * (self.rho ** n)\n",
    "\n",
    "    def L(self):\n",
    "        \"\"\" Average number of customers in the system \"\"\"\n",
    "        return self.rho / (1 - self.rho)\n",
    "\n",
    "    def Lq(self):\n",
    "        \"\"\" Average number of customers in the queue \"\"\"\n",
    "        return (self.rho ** 2) / (1 - self.rho)\n",
    "\n",
    "    def W(self):\n",
    "        \"\"\" Average time a customer spends in the system \"\"\"\n",
    "        return 1 / (self.mu - self.lam)\n",
    "\n",
    "    def Wq(self):\n",
    "        \"\"\" Average time a customer spends waiting in the queue \"\"\"\n",
    "        return self.rho / (self.mu - self.lam)\n",
    "\n",
    "\n",
    "class MM1k:\n",
    "    def __init__(self, lam, mu, k):\n",
    "        self.lam = lam  # Arrival rate\n",
    "        self.mu = mu    # Service rate\n",
    "        self.k = k      # Capacity\n",
    "        self.rho = lam / mu\n",
    "\n",
    "    def get_p0(self):\n",
    "        \"\"\" Probability of zero customers in the system \"\"\"\n",
    "        if self.rho == 1:\n",
    "            return 1 / (self.k + 1)\n",
    "        else:\n",
    "            return (1 - self.rho) / (1 - self.rho ** (self.k + 1))\n",
    "\n",
    "    def get_pn(self, n):\n",
    "        \"\"\" Probability of having n customers in the system \"\"\"\n",
    "        p0 = self.get_p0()\n",
    "        return p0 * (self.rho ** n)\n",
    "\n",
    "    def L(self):\n",
    "        \"\"\" Average number of customers in the system \"\"\"\n",
    "        p0 = self.get_p0()\n",
    "        L = 0\n",
    "        for n in range(self.k + 1):\n",
    "            L += n * self.get_pn(n)\n",
    "        return L\n",
    "\n",
    "    def Lq(self):\n",
    "        \"\"\" Average number of customers in the queue \"\"\"\n",
    "        return self.L() - self.rho\n",
    "\n",
    "    def W(self):\n",
    "        \"\"\" Average time a customer spends in the system \"\"\"\n",
    "        return self.L() / (self.lam * (1 - self.get_pn(self.k)))\n",
    "\n",
    "    def Wq(self):\n",
    "        \"\"\" Average time a customer spends waiting in the queue \"\"\"\n",
    "        return self.Lq() / (self.lam * (1 - self.get_pn(self.k)))\n",
    "\n",
    "\n",
    "class MMc:\n",
    "    def __init__(self, lam, mu, c):\n",
    "        self.lam = lam  # Arrival rate\n",
    "        self.mu = mu    # Service rate\n",
    "        self.c = c      # Number of servers\n",
    "        self.rho = lam / (c * mu)\n",
    "\n",
    "    def get_p0(self):\n",
    "        \"\"\" Probability of zero customers in the system \"\"\"\n",
    "        summation = sum((self.lam / self.mu) ** n / factorial(n) for n in range(self.c))\n",
    "        last_term = (self.lam / self.mu) ** self.c / (factorial(self.c) * (1 - self.rho))\n",
    "        return 1 / (summation + last_term)\n",
    "\n",
    "    def get_pn(self, n):\n",
    "        \"\"\" Probability of having n customers in the system \"\"\"\n",
    "        p0 = self.get_p0()\n",
    "        if n < self.c:\n",
    "            return p0 * (self.lam / self.mu) ** n / factorial(n)\n",
    "        else:\n",
    "            return p0 * (self.lam / self.mu) ** n / (factorial(self.c) * self.c ** (n - self.c))\n",
    "\n",
    "    def Lq(self):\n",
    "        \"\"\" Average number of customers in the queue \"\"\"\n",
    "        p0 = self.get_p0()\n",
    "        return p0 * (self.rho ** self.c) * self.lam / (factorial(self.c) * (1 - self.rho) ** 2)\n",
    "\n",
    "    def L(self):\n",
    "        \"\"\" Average number of customers in the system \"\"\"\n",
    "        return self.Lq() + self.lam / self.mu\n",
    "\n",
    "    def W(self):\n",
    "        \"\"\" Average time a customer spends in the system \"\"\"\n",
    "        return self.L() / self.lam\n",
    "\n",
    "    def Wq(self):\n",
    "        \"\"\" Average time a customer spends waiting in the queue \"\"\"\n",
    "        return self.Lq() / self.lam\n",
    "\n",
    "\n",
    "class MMck:\n",
    "    def __init__(self, lam, mu, c, k):\n",
    "        self.lam = lam  # Arrival rate\n",
    "        self.mu = mu    # Service rate\n",
    "        self.c = c      # Number of servers\n",
    "        self.k = k      # Capacity\n",
    "        self.rho = lam / (c * mu)\n",
    "\n",
    "    def get_p0(self):\n",
    "        \"\"\" Probability of zero customers in the system \"\"\"\n",
    "        sum1 = sum((self.lam / self.mu) ** n / factorial(n) for n in range(self.c))\n",
    "        sum2 = ((self.lam / self.mu) ** self.c) / factorial(self.c) * sum(\n",
    "            (self.lam / (self.c * self.mu)) ** n for n in range(self.k - self.c + 1)\n",
    "        )\n",
    "        return 1 / (sum1 + sum2)\n",
    "\n",
    "    def get_pn(self, n):\n",
    "        \"\"\" Probability of having n customers in the system \"\"\"\n",
    "        p0 = self.get_p0()\n",
    "        if n < self.c:\n",
    "            return p0 * (self.lam / self.mu) ** n / factorial(n)\n",
    "        else:\n",
    "            return p0 * (self.lam / self.mu) ** n / (factorial(self.c) * self.c ** (n - self.c))\n",
    "\n",
    "    def Lq(self):\n",
    "        \"\"\" Average number of customers in the queue \"\"\"\n",
    "        p0 = self.get_p0()\n",
    "        return p0 * (self.rho ** self.c) * self.lam / (factorial(self.c) * (1 - self.rho) ** 2)\n",
    "\n",
    "    def L(self):\n",
    "        \"\"\" Average number of customers in the system \"\"\"\n",
    "        return self.Lq() + self.lam / self.mu\n",
    "\n",
    "    def W(self):\n",
    "        \"\"\" Average time a customer spends in the system \"\"\"\n",
    "        return self.L() / self.lam\n",
    "\n",
    "    def Wq(self):\n",
    "        \"\"\" Average time a customer spends waiting in the queue \"\"\"\n",
    "        return self.Lq() / self.lam\n"
   ]
  },
  {
   "cell_type": "code",
   "execution_count": 34,
   "metadata": {},
   "outputs": [
    {
     "name": "stdout",
     "output_type": "stream",
     "text": [
      "Model: M/M/1\n",
      "L: 1.9999999999999998\n",
      "Lq: 1.333333333333333\n",
      "W: 1.0\n",
      "Wq: 0.6666666666666666\n",
      "\n",
      "Model: M/M/1/k\n",
      "L: 1.4225563909774435\n",
      "Lq: 0.7558897243107768\n",
      "W: 0.7472353870458135\n",
      "Wq: 0.3970510795155344\n",
      "\n",
      "Model: M/M/c\n",
      "L: 0.848130785803916\n",
      "Lq: 0.014797452470582666\n",
      "W: 0.1696261571607832\n",
      "Wq: 0.0029594904941165332\n",
      "\n",
      "Model: M/M/c/k\n",
      "L: 1.1809752084643919\n",
      "Lq: 0.38097520846439187\n",
      "W: 0.29524380211609796\n",
      "Wq: 0.09524380211609797\n"
     ]
    }
   ],
   "source": [
    "# Sample Run\n",
    "mm1 = MM1(lam=2, mu=3)\n",
    "print(\"Model: M/M/1\")\n",
    "print(\"L:\", mm1.L())\n",
    "print(\"Lq:\", mm1.Lq())\n",
    "print(\"W:\", mm1.W())\n",
    "print(\"Wq:\", mm1.Wq())\n",
    "\n",
    "mm1k = MM1k(lam=2, mu=3, k=5)\n",
    "print(\"\\nModel: M/M/1/k\")\n",
    "print(\"L:\", mm1k.L())\n",
    "print(\"Lq:\", mm1k.Lq())\n",
    "print(\"W:\", mm1k.W())\n",
    "print(\"Wq:\", mm1k.Wq())\n",
    "\n",
    "mmc = MMc(lam=5, mu=6, c=3)\n",
    "print(\"\\nModel: M/M/c\")\n",
    "print(\"L:\", mmc.L())\n",
    "print(\"Lq:\", mmc.Lq())\n",
    "print(\"W:\", mmc.W())\n",
    "print(\"Wq:\", mmc.Wq())\n",
    "\n",
    "mmck = MMck(lam=4, mu=5, c=2, k=10)\n",
    "print(\"\\nModel: M/M/c/k\")\n",
    "print(\"L:\", mmck.L())\n",
    "print(\"Lq:\", mmck.Lq())\n",
    "print(\"W:\", mmck.W())\n",
    "print(\"Wq:\", mmck.Wq())\n",
    "\n"
   ]
  },
  {
   "cell_type": "markdown",
   "metadata": {},
   "source": [
    "\n",
    "### 11. WAP to plot a graph for function $y = x^2$.  \n"
   ]
  },
  {
   "cell_type": "code",
   "execution_count": null,
   "metadata": {},
   "outputs": [],
   "source": []
  },
  {
   "cell_type": "markdown",
   "metadata": {},
   "source": [
    "\n",
    "12. WAP to fit poisson distribution on a given data.  \n"
   ]
  },
  {
   "cell_type": "code",
   "execution_count": null,
   "metadata": {},
   "outputs": [],
   "source": []
  },
  {
   "cell_type": "markdown",
   "metadata": {},
   "source": [
    "\n",
    "13. Write a python function that calculates the pierson correlation cofficient between two lists of numbers.  \n"
   ]
  },
  {
   "cell_type": "code",
   "execution_count": null,
   "metadata": {},
   "outputs": [],
   "source": []
  },
  {
   "cell_type": "markdown",
   "metadata": {},
   "source": [
    "\n",
    "14. Write a python function that calculates Spareman correlation cofficient.\n"
   ]
  },
  {
   "cell_type": "code",
   "execution_count": null,
   "metadata": {},
   "outputs": [],
   "source": []
  },
  {
   "cell_type": "markdown",
   "metadata": {},
   "source": [
    "\n",
    "15. Using matplotlib plot histogram of list of numbers.  \n"
   ]
  },
  {
   "cell_type": "code",
   "execution_count": null,
   "metadata": {},
   "outputs": [],
   "source": []
  },
  {
   "cell_type": "markdown",
   "metadata": {},
   "source": [
    "\n",
    "16. Write a python function that calculates the Z-score for the lists of numbers.  \n"
   ]
  },
  {
   "cell_type": "code",
   "execution_count": null,
   "metadata": {},
   "outputs": [],
   "source": []
  },
  {
   "cell_type": "markdown",
   "metadata": {},
   "source": [
    "\n",
    "17. WAP to test the significance of two sample means.  \n"
   ]
  },
  {
   "cell_type": "code",
   "execution_count": null,
   "metadata": {},
   "outputs": [],
   "source": []
  },
  {
   "cell_type": "markdown",
   "metadata": {},
   "source": [
    "\n",
    "18. WAP to test the goodness of fit of a given dataset on binomial distribution.  \n"
   ]
  },
  {
   "cell_type": "code",
   "execution_count": null,
   "metadata": {},
   "outputs": [],
   "source": []
  },
  {
   "cell_type": "markdown",
   "metadata": {},
   "source": [
    "\n",
    "19. WAP to test significance of two sample variance.  \n"
   ]
  },
  {
   "cell_type": "code",
   "execution_count": null,
   "metadata": {},
   "outputs": [],
   "source": []
  },
  {
   "cell_type": "markdown",
   "metadata": {},
   "source": [
    "\n",
    "20. WAP to implement linear regression in python.  \n"
   ]
  },
  {
   "cell_type": "code",
   "execution_count": null,
   "metadata": {},
   "outputs": [],
   "source": []
  },
  {
   "cell_type": "markdown",
   "metadata": {},
   "source": [
    "\n",
    "21. WAP to plot piechart on consumption of water in daily life.  \n"
   ]
  },
  {
   "cell_type": "code",
   "execution_count": null,
   "metadata": {},
   "outputs": [],
   "source": []
  },
  {
   "cell_type": "markdown",
   "metadata": {},
   "source": [
    "\n",
    "22. WAP to plot bar chart to display result for 10th, 12th, 1st year, 2nd year, 3rd year CGPA.  \n"
   ]
  },
  {
   "cell_type": "code",
   "execution_count": null,
   "metadata": {},
   "outputs": [],
   "source": []
  },
  {
   "cell_type": "markdown",
   "metadata": {},
   "source": [
    "\n",
    "23. WAP to perform various statistical measures using pandas.  \n"
   ]
  },
  {
   "cell_type": "code",
   "execution_count": null,
   "metadata": {},
   "outputs": [],
   "source": []
  },
  {
   "cell_type": "markdown",
   "metadata": {},
   "source": [
    "\n",
    "24. WAP to perform read and write operations with csv files.  \n"
   ]
  },
  {
   "cell_type": "code",
   "execution_count": null,
   "metadata": {},
   "outputs": [],
   "source": []
  },
  {
   "cell_type": "markdown",
   "metadata": {},
   "source": [
    "\n",
    "25. WAP to compute values of Sin x using taylor series.  \n"
   ]
  },
  {
   "cell_type": "code",
   "execution_count": null,
   "metadata": {},
   "outputs": [],
   "source": []
  },
  {
   "cell_type": "markdown",
   "metadata": {},
   "source": [
    "\n",
    "26. WAP to display the following pattern \n",
    "```python\n",
    "                5\n",
    "               45\n",
    "              345\n",
    "             2345\n",
    "            12345\n",
    "```\n"
   ]
  },
  {
   "cell_type": "code",
   "execution_count": null,
   "metadata": {},
   "outputs": [],
   "source": []
  },
  {
   "cell_type": "markdown",
   "metadata": {},
   "source": [
    "\n",
    "27. WAP to find if a nummber or string is palindrome or not.  \n"
   ]
  },
  {
   "cell_type": "code",
   "execution_count": null,
   "metadata": {},
   "outputs": [],
   "source": []
  },
  {
   "cell_type": "markdown",
   "metadata": {},
   "source": [
    "\n",
    "28. WAP to find greatest of number using loop.  \n"
   ]
  },
  {
   "cell_type": "code",
   "execution_count": null,
   "metadata": {},
   "outputs": [],
   "source": []
  },
  {
   "cell_type": "markdown",
   "metadata": {},
   "source": [
    "\n",
    "29. WAP to print fibonacci series.  \n"
   ]
  },
  {
   "cell_type": "code",
   "execution_count": null,
   "metadata": {},
   "outputs": [],
   "source": []
  },
  {
   "cell_type": "markdown",
   "metadata": {},
   "source": [
    "\n",
    "30. WAP to find factorial using recursion.  \n"
   ]
  },
  {
   "cell_type": "code",
   "execution_count": null,
   "metadata": {},
   "outputs": [],
   "source": []
  },
  {
   "cell_type": "markdown",
   "metadata": {},
   "source": [
    "\n",
    "31. WAP to find if a number is armstrong or not.  \n"
   ]
  },
  {
   "cell_type": "code",
   "execution_count": null,
   "metadata": {},
   "outputs": [],
   "source": []
  },
  {
   "cell_type": "markdown",
   "metadata": {},
   "source": [
    "\n",
    "32. Write a menu driven program to find the reverse of a number and sum of digits. "
   ]
  },
  {
   "cell_type": "code",
   "execution_count": null,
   "metadata": {},
   "outputs": [],
   "source": []
  },
  {
   "cell_type": "markdown",
   "metadata": {},
   "source": [
    "***"
   ]
  }
 ],
 "metadata": {
  "kernelspec": {
   "display_name": "base",
   "language": "python",
   "name": "python3"
  },
  "language_info": {
   "codemirror_mode": {
    "name": "ipython",
    "version": 3
   },
   "file_extension": ".py",
   "mimetype": "text/x-python",
   "name": "python",
   "nbconvert_exporter": "python",
   "pygments_lexer": "ipython3",
   "version": "3.12.4"
  }
 },
 "nbformat": 4,
 "nbformat_minor": 2
}
