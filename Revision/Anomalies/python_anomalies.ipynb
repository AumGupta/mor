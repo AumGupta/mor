{
 "cells": [
  {
   "cell_type": "markdown",
   "id": "11a65451",
   "metadata": {},
   "source": [
    "## 1. Floating-Point Arithmetic Errors\n",
    "**Explanation:** Floating-point numbers are approximations, so calculations involving them can produce unexpected results due to limitations of the IEEE 754 standard.\n",
    "\n",
    "**How to Handle:** Use the `decimal` module or `math.isclose()` to manage floating-point precision issues.\n",
    "\n",
    "#### Example (Anomaly):"
   ]
  },
  {
   "cell_type": "code",
   "execution_count": 1,
   "id": "2d615682",
   "metadata": {},
   "outputs": [
    {
     "name": "stdout",
     "output_type": "stream",
     "text": [
      "0.30000000000000004\n",
      "False\n"
     ]
    }
   ],
   "source": [
    "print(0.1 + 0.2)  # Output: 0.30000000000000004\n",
    "print(0.3 - 0.2 == 0.1)  # Output: False"
   ]
  },
  {
   "cell_type": "markdown",
   "id": "43c31405",
   "metadata": {},
   "source": [
    "#### Example (Handling):"
   ]
  },
  {
   "cell_type": "code",
   "execution_count": 2,
   "id": "49faf889",
   "metadata": {},
   "outputs": [
    {
     "name": "stdout",
     "output_type": "stream",
     "text": [
      "0.3\n",
      "True\n"
     ]
    }
   ],
   "source": [
    "from decimal import Decimal\n",
    "print(Decimal('0.1') + Decimal('0.2'))  # Output: 0.3\n",
    "\n",
    "import math\n",
    "print(math.isclose(0.3 - 0.2, 0.1))  # Output: True"
   ]
  },
  {
   "cell_type": "markdown",
   "id": "c3519153",
   "metadata": {},
   "source": [
    "## 2. Mutable Default Arguments\n",
    "**Explanation:** Default mutable arguments retain state between function calls because they are evaluated once when the function is defined.\n",
    "\n",
    "**How to Handle:** Use immutable defaults like `None` and initialize the mutable object inside the function.\n",
    "\n",
    "#### Example (Anomaly):"
   ]
  },
  {
   "cell_type": "code",
   "execution_count": 3,
   "id": "dca5a265",
   "metadata": {},
   "outputs": [
    {
     "name": "stdout",
     "output_type": "stream",
     "text": [
      "[1]\n",
      "[1, 2]\n"
     ]
    }
   ],
   "source": [
    "def append_to_list(value, lst=[]):\n",
    "    lst.append(value)\n",
    "    return lst\n",
    "\n",
    "print(append_to_list(1))  # Output: [1]\n",
    "print(append_to_list(2))  # Output: [1, 2] (same list reused!)"
   ]
  },
  {
   "cell_type": "markdown",
   "id": "44f39bac",
   "metadata": {},
   "source": [
    "#### Example (Handling):"
   ]
  },
  {
   "cell_type": "code",
   "execution_count": 4,
   "id": "b4296471",
   "metadata": {},
   "outputs": [
    {
     "name": "stdout",
     "output_type": "stream",
     "text": [
      "[1]\n",
      "[2]\n"
     ]
    }
   ],
   "source": [
    "def append_to_list(value, lst=None):\n",
    "    if lst is None:\n",
    "        lst = []\n",
    "    lst.append(value)\n",
    "    return lst\n",
    "\n",
    "print(append_to_list(1))  # Output: [1]\n",
    "print(append_to_list(2))  # Output: [2]"
   ]
  },
  {
   "cell_type": "markdown",
   "id": "108e7728",
   "metadata": {},
   "source": [
    "## 3. NaN is Not Equal to Itself\n",
    "**Explanation:** `NaN` (Not a Number) is not equal to itself, as per the IEEE 754 standard for floating-point arithmetic.\n",
    "\n",
    "**How to Handle:** Use `math.isnan()` or `numpy.isnan()` to explicitly check for `NaN` values.\n",
    "\n",
    "#### Example (Anomaly):"
   ]
  },
  {
   "cell_type": "code",
   "execution_count": 5,
   "id": "581ba502",
   "metadata": {},
   "outputs": [
    {
     "name": "stdout",
     "output_type": "stream",
     "text": [
      "False\n"
     ]
    }
   ],
   "source": [
    "import math\n",
    "print(math.nan == math.nan)  # Output: False"
   ]
  },
  {
   "cell_type": "markdown",
   "id": "bd609666",
   "metadata": {},
   "source": [
    "#### Example (Handling):"
   ]
  },
  {
   "cell_type": "code",
   "execution_count": 6,
   "id": "71ae5766",
   "metadata": {},
   "outputs": [
    {
     "name": "stdout",
     "output_type": "stream",
     "text": [
      "True\n"
     ]
    }
   ],
   "source": [
    "import math\n",
    "print(math.isnan(math.nan))  # Output: True"
   ]
  }
 ],
 "metadata": {
  "kernelspec": {
   "display_name": "base",
   "language": "python",
   "name": "python3"
  },
  "language_info": {
   "codemirror_mode": {
    "name": "ipython",
    "version": 3
   },
   "file_extension": ".py",
   "mimetype": "text/x-python",
   "name": "python",
   "nbconvert_exporter": "python",
   "pygments_lexer": "ipython3",
   "version": "3.12.4"
  }
 },
 "nbformat": 4,
 "nbformat_minor": 5
}
