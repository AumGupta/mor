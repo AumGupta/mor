{
 "cells": [
  {
   "cell_type": "markdown",
   "metadata": {},
   "source": [
    "1. WAP to compute the roots of a quadratic equation. \n",
    "\n",
    "2. WAP to play Stone, Paper, Scissors with Computer. \n",
    "\n",
    "3. Write a program for BMI Calculator with Categorization of underweight, normal weight and overweight. \n",
    "\n",
    "4. WAP to demonstrate exception handling of Zero Division Error. \n",
    "\n",
    "5. WAP to demonstrate OOPs using user defined Cuboid Class. \n",
    "\n",
    "6. WAP to demonstrate inheritance in OOPs using user defined Rectangle and Cuboid Class. \n",
    "\n",
    "7. Write a Program to implement Inheritance. Create a class Employee inherit two classes Manager and Clerk from Employee. \n",
    "\n",
    "8. WAP to demonstrate the demarcation of class variable and instance variable in OOP using Employee Class. \n",
    "\n",
    "9. Write a Program to determine EOQ using various inventory models. \n",
    "\n",
    "10. Write a Program to determine different characteristics using various Queuing models. \n",
    "\n",
    "11. WAP to plot a graph for function (y=X2).  \n",
    "\n",
    "12. WAP to fit poisson distribution on a given data.  \n",
    "\n",
    "13. Write a python function that calculates the pierson correlation cofficient between two lists of numbers.  \n",
    "\n",
    "14. Write a python function that calculates Spareman correlation cofficient.\n",
    "\n",
    "15. Using matplotlib plot histogram of list of numbers.  \n",
    "\n",
    "16. Write a python function that calculates the Z-score for the lists of numbers.  \n",
    "\n",
    "17. WAP to test the significance of two sample means.  \n",
    "\n",
    "18. WAP to test the goodness of fit of a given dataset on binomial distribution.  \n",
    "\n",
    "19. WAP to test significance of two sample variance.  \n",
    "\n",
    "20. WAP to implement linear regression in python.  \n",
    "\n",
    "21. WAP to plot piechart on consumption of water in daily life.  \n",
    "\n",
    "22. WAP to plot bar chart to display result for 10th, 12th, 1st year, 2nd year, 3rd year CGPA.  \n",
    "\n",
    "23. WAP to perform various statistical measures using pandas.  \n",
    "\n",
    "24. WAP to perform read and write operations with csv files.  \n",
    "\n",
    "25. WAP to compute values of Sin x using taylor series.  \n",
    "\n",
    "26. WAP to display the following pattern \n",
    "```python\n",
    "                5\n",
    "               45\n",
    "              345\n",
    "             2345\n",
    "            12345\n",
    "```\n",
    "\n",
    "27. WAP to find if a nummber or string is palindrome or not.  \n",
    "\n",
    "28. WAP to find greatest of number using loop.  \n",
    "\n",
    "29. WAP to print fibonacci series.  \n",
    "\n",
    "30. WAP to find factorial using recursion.  \n",
    "\n",
    "31. WAP to find if a number is armstrong or not.  \n",
    "\n",
    "32. Write a menu driven program to find the reverse of a number and sum of digits. "
   ]
  },
  {
   "cell_type": "markdown",
   "metadata": {},
   "source": [
    "### 1. WAP to compute the roots of a quadratic equation. "
   ]
  },
  {
   "cell_type": "code",
   "execution_count": 21,
   "metadata": {},
   "outputs": [
    {
     "name": "stdout",
     "output_type": "stream",
     "text": [
      "Given equation is:\n",
      "1.0x² + 2.0x + 1.0\n",
      "Root is x = -1.00\n"
     ]
    }
   ],
   "source": [
    "a = float(input(\"Enter the coefficient of x\\N{SUPERSCRIPT TWO}: \"))\n",
    "if a==0:\n",
    "    print(\"Not a quadratic equation.\\nThe coefficient of x\\N{SUPERSCRIPT TWO}, needs to be non-zero.\")\n",
    "else:\n",
    "    b = float(input(\"Enter the coefficient of x: \"))\n",
    "    c = float(input(\"Enter the constant term: \"))\n",
    "    # Formatting the equation for maximum readability.\n",
    "    print(f\"Given equation is:\\n{a}x\\N{SUPERSCRIPT TWO}{\"\" if b==0 else str(\" + \" if b>0 else \" - \")+str(abs(b))+\"x \"}{\"\" if c==0 else str(\"+ \" if c>0 else \"- \")+str(abs(c))}\")\n",
    "    from math import sqrt\n",
    "    # Discriminant\n",
    "    d = b*b-4*a*c\n",
    "    if d>0:\n",
    "        d = sqrt(d)\n",
    "        root1 = (-b+d)/(2*a)\n",
    "        root2 = (-b-d)/(2*a)\n",
    "        print(f\"Roots are x = {root1:2.2f}, {root2:2.2f}\")\n",
    "    elif d == 0:\n",
    "        d = sqrt(d)\n",
    "        root1 = (-b+d)/(2*a)\n",
    "        print(f\"Root is x = {root1:2.2f}\")\n",
    "    else:\n",
    "        print(f\"Since, discriminant ({d}) < 0\\nTherefore, no real roots exist.\")"
   ]
  },
  {
   "cell_type": "markdown",
   "metadata": {},
   "source": [
    "\n",
    "### 2. WAP to play Stone, Paper, Scissors with Computer. \n"
   ]
  },
  {
   "cell_type": "code",
   "execution_count": 22,
   "metadata": {},
   "outputs": [
    {
     "name": "stdout",
     "output_type": "stream",
     "text": [
      "You Picked -> Paper\n",
      "Computer Picked -> Stone\n",
      "\n",
      "Result -> You Won!\n"
     ]
    }
   ],
   "source": [
    "u = int(input(f\"1. Stone\\n2. Paper\\n3. Scissors\\nEnter your choice (1/2/3): \"))\n",
    "if u>3 or u<1:\n",
    "    print(\"Incorrect Choice. Please choose from 1/2/3.\")\n",
    "else:\n",
    "    from random import randint\n",
    "    c = randint(1,3)\n",
    "    l = ['Stone', 'Paper', 'Scissors']\n",
    "    print(f\"You Picked -> {l[u-1]}\\nComputer Picked -> {l[c-1]}\")\n",
    "    print(\"\\nResult -> \",end=\"\")\n",
    "    if u==c:\n",
    "        print(\"Draw\")\n",
    "    elif (u==1 and c==3) or (u==2 and c==1) or (u==3 and c==2):\n",
    "        print(\"You Won!\")\n",
    "    else:\n",
    "        print(\"Computer Won!\")\n"
   ]
  },
  {
   "cell_type": "markdown",
   "metadata": {},
   "source": [
    "\n",
    "### 3. Write a program for $BMI$ Calculator with Categorization of underweight, normal weight and overweight. \n",
    "\n",
    "\n",
    "#### BMI Categories\n",
    "\n",
    "Underweight: $BMI < 18.5$\\\n",
    "Normal weight: $18.5 <= BMI < 24.9$\\\n",
    "Overweight: $25 <= BMI < 29.9$\\\n",
    "Obesity: $BMI >= 30$\n"
   ]
  },
  {
   "cell_type": "code",
   "execution_count": 23,
   "metadata": {},
   "outputs": [
    {
     "name": "stdout",
     "output_type": "stream",
     "text": [
      "Weight: 70.0kg\n",
      "Height: 169.5m\n",
      "Your BMI is: 0.00\n",
      "You are underweight.\n"
     ]
    }
   ],
   "source": [
    "# Input: weight (kg) and height (m)\n",
    "weight = float(input(\"Enter your weight in kg: \"))\n",
    "height = float(input(\"Enter your height in meters: \"))\n",
    "\n",
    "print(f\"Weight: {weight}kg\")\n",
    "print(f\"Height: {height}m\")\n",
    "bmi = weight / (height ** 2)\n",
    "\n",
    "print(f\"Your BMI is: {bmi:.2f}\")\n",
    "\n",
    "# Categorization\n",
    "if bmi < 18.5:\n",
    "    print(\"You are underweight.\")\n",
    "elif 18.5 <= bmi < 24.9:\n",
    "    print(\"You have a normal weight.\")\n",
    "elif 25 <= bmi < 29.9:\n",
    "    print(\"You are overweight.\")\n",
    "else:\n",
    "    print(\"You are obese.\")\n"
   ]
  },
  {
   "cell_type": "markdown",
   "metadata": {},
   "source": [
    "\n",
    "### 4. WAP to demonstrate exception handling of Zero Division Error. \n"
   ]
  },
  {
   "cell_type": "code",
   "execution_count": 24,
   "metadata": {},
   "outputs": [
    {
     "name": "stdout",
     "output_type": "stream",
     "text": [
      "Division by 0 is not possible.\n"
     ]
    }
   ],
   "source": [
    "a = int(input(\"Enter Dividend: \"))\n",
    "b = int(input(\"Enter a Divisor: \"))\n",
    "\n",
    "try:\n",
    "    c = a/b\n",
    "    print(f\"{a}/{b} = {c}\")\n",
    "except ZeroDivisionError as e:\n",
    "    print(\"Division by 0 is not possible.\")"
   ]
  },
  {
   "cell_type": "markdown",
   "metadata": {},
   "source": [
    "\n",
    "### 5. WAP to demonstrate OOPs using user defined Cuboid Class. \n"
   ]
  },
  {
   "cell_type": "code",
   "execution_count": 25,
   "metadata": {},
   "outputs": [
    {
     "name": "stdout",
     "output_type": "stream",
     "text": [
      "Perimeter is 24\n",
      "Volume is 6\n"
     ]
    }
   ],
   "source": [
    "class Cuboid:\n",
    "    def __init__(self, l, b, h):\n",
    "        self.ln = l\n",
    "        self.br = b\n",
    "        self.hi = h\n",
    "    def peri(self):\n",
    "        \"\"\"Compute perimeter of the cuboid.\"\"\"\n",
    "        return 4*(self.ln+self.br+self.hi)\n",
    "    def vol(self):\n",
    "        \"\"\"Compute volume of the cuboid.\"\"\"\n",
    "        return self.ln*self.br*self.hi\n",
    "c1 = Cuboid(1,2,3)\n",
    "perimeter = c1.peri()\n",
    "volume = c1.vol()\n",
    "print(f'Perimeter is {perimeter}')\n",
    "print(f'Volume is {volume}')"
   ]
  },
  {
   "cell_type": "markdown",
   "metadata": {},
   "source": [
    "\n",
    "### 6. WAP to demonstrate inheritance in OOPs using user defined Rectangle and Cuboid Class. \n"
   ]
  },
  {
   "cell_type": "code",
   "execution_count": 26,
   "metadata": {},
   "outputs": [
    {
     "name": "stdout",
     "output_type": "stream",
     "text": [
      "Perimeter is 32\n",
      "Volume is 18\n"
     ]
    }
   ],
   "source": [
    "class Rectangle:\n",
    "    def __init__(self, l, b):\n",
    "        self.ln = l\n",
    "        self.br = b\n",
    "    def peri(self):\n",
    "        \"\"\"Compute perimeter of the rectangle.\"\"\"\n",
    "        return 2*(self.ln+self.br)\n",
    "    def area(self):\n",
    "        \"\"\"Compute area of the rectangle.\"\"\"\n",
    "        return self.ln*self.br\n",
    "\n",
    "class Cuboid(Rectangle):\n",
    "    def __init__(self, l, b, h):\n",
    "        super().__init__(l, b)\n",
    "        self.hi = h\n",
    "    def vol(self):\n",
    "        \"\"\"Compute volume of the cuboid.\"\"\"\n",
    "        return self.area()*self.hi\n",
    "    def peri(self):\n",
    "        \"\"\"Compute perimeter of the cuboid.\"\"\"\n",
    "        return 4*(self.ln+self.br+self.hi)\n",
    "\n",
    "c2 = Cuboid(3,2,3)\n",
    "perimeter = c2.peri()\n",
    "volume = c2.vol()\n",
    "print(f'Perimeter is {perimeter}')\n",
    "print(f'Volume is {volume}')\n"
   ]
  },
  {
   "cell_type": "markdown",
   "metadata": {},
   "source": [
    "\n",
    "7. Write a Program to implement Inheritance. Create a class Employee inherit two classes Manager and Clerk from Employee. \n"
   ]
  },
  {
   "cell_type": "code",
   "execution_count": null,
   "metadata": {},
   "outputs": [],
   "source": []
  },
  {
   "cell_type": "markdown",
   "metadata": {},
   "source": [
    "\n",
    "8. WAP to demonstrate the demarcation of class variable and instance variable in OOP using Employee Class. \n"
   ]
  },
  {
   "cell_type": "code",
   "execution_count": null,
   "metadata": {},
   "outputs": [],
   "source": []
  },
  {
   "cell_type": "markdown",
   "metadata": {},
   "source": [
    "\n",
    "9. Write a Program to determine EOQ using various inventory models. \n"
   ]
  },
  {
   "cell_type": "code",
   "execution_count": null,
   "metadata": {},
   "outputs": [],
   "source": []
  },
  {
   "cell_type": "markdown",
   "metadata": {},
   "source": [
    "\n",
    "10. Write a Program to determine different characteristics using various Queuing models. \n"
   ]
  },
  {
   "cell_type": "code",
   "execution_count": null,
   "metadata": {},
   "outputs": [],
   "source": []
  },
  {
   "cell_type": "markdown",
   "metadata": {},
   "source": [
    "\n",
    "11. WAP to plot a graph for function $y = x^2$.  \n"
   ]
  },
  {
   "cell_type": "code",
   "execution_count": null,
   "metadata": {},
   "outputs": [],
   "source": []
  },
  {
   "cell_type": "markdown",
   "metadata": {},
   "source": [
    "\n",
    "12. WAP to fit poisson distribution on a given data.  \n"
   ]
  },
  {
   "cell_type": "code",
   "execution_count": null,
   "metadata": {},
   "outputs": [],
   "source": []
  },
  {
   "cell_type": "markdown",
   "metadata": {},
   "source": [
    "\n",
    "13. Write a python function that calculates the pierson correlation cofficient between two lists of numbers.  \n"
   ]
  },
  {
   "cell_type": "code",
   "execution_count": null,
   "metadata": {},
   "outputs": [],
   "source": []
  },
  {
   "cell_type": "markdown",
   "metadata": {},
   "source": [
    "\n",
    "14. Write a python function that calculates Spareman correlation cofficient.\n"
   ]
  },
  {
   "cell_type": "code",
   "execution_count": null,
   "metadata": {},
   "outputs": [],
   "source": []
  },
  {
   "cell_type": "markdown",
   "metadata": {},
   "source": [
    "\n",
    "15. Using matplotlib plot histogram of list of numbers.  \n"
   ]
  },
  {
   "cell_type": "code",
   "execution_count": null,
   "metadata": {},
   "outputs": [],
   "source": []
  },
  {
   "cell_type": "markdown",
   "metadata": {},
   "source": [
    "\n",
    "16. Write a python function that calculates the Z-score for the lists of numbers.  \n"
   ]
  },
  {
   "cell_type": "code",
   "execution_count": null,
   "metadata": {},
   "outputs": [],
   "source": []
  },
  {
   "cell_type": "markdown",
   "metadata": {},
   "source": [
    "\n",
    "17. WAP to test the significance of two sample means.  \n"
   ]
  },
  {
   "cell_type": "code",
   "execution_count": null,
   "metadata": {},
   "outputs": [],
   "source": []
  },
  {
   "cell_type": "markdown",
   "metadata": {},
   "source": [
    "\n",
    "18. WAP to test the goodness of fit of a given dataset on binomial distribution.  \n"
   ]
  },
  {
   "cell_type": "code",
   "execution_count": null,
   "metadata": {},
   "outputs": [],
   "source": []
  },
  {
   "cell_type": "markdown",
   "metadata": {},
   "source": [
    "\n",
    "19. WAP to test significance of two sample variance.  \n"
   ]
  },
  {
   "cell_type": "code",
   "execution_count": null,
   "metadata": {},
   "outputs": [],
   "source": []
  },
  {
   "cell_type": "markdown",
   "metadata": {},
   "source": [
    "\n",
    "20. WAP to implement linear regression in python.  \n"
   ]
  },
  {
   "cell_type": "code",
   "execution_count": null,
   "metadata": {},
   "outputs": [],
   "source": []
  },
  {
   "cell_type": "markdown",
   "metadata": {},
   "source": [
    "\n",
    "21. WAP to plot piechart on consumption of water in daily life.  \n"
   ]
  },
  {
   "cell_type": "code",
   "execution_count": null,
   "metadata": {},
   "outputs": [],
   "source": []
  },
  {
   "cell_type": "markdown",
   "metadata": {},
   "source": [
    "\n",
    "22. WAP to plot bar chart to display result for 10th, 12th, 1st year, 2nd year, 3rd year CGPA.  \n"
   ]
  },
  {
   "cell_type": "code",
   "execution_count": null,
   "metadata": {},
   "outputs": [],
   "source": []
  },
  {
   "cell_type": "markdown",
   "metadata": {},
   "source": [
    "\n",
    "23. WAP to perform various statistical measures using pandas.  \n"
   ]
  },
  {
   "cell_type": "code",
   "execution_count": null,
   "metadata": {},
   "outputs": [],
   "source": []
  },
  {
   "cell_type": "markdown",
   "metadata": {},
   "source": [
    "\n",
    "24. WAP to perform read and write operations with csv files.  \n"
   ]
  },
  {
   "cell_type": "code",
   "execution_count": null,
   "metadata": {},
   "outputs": [],
   "source": []
  },
  {
   "cell_type": "markdown",
   "metadata": {},
   "source": [
    "\n",
    "25. WAP to compute values of Sin x using taylor series.  \n"
   ]
  },
  {
   "cell_type": "code",
   "execution_count": null,
   "metadata": {},
   "outputs": [],
   "source": []
  },
  {
   "cell_type": "markdown",
   "metadata": {},
   "source": [
    "\n",
    "26. WAP to display the following pattern \n",
    "```python\n",
    "                5\n",
    "               45\n",
    "              345\n",
    "             2345\n",
    "            12345\n",
    "```\n"
   ]
  },
  {
   "cell_type": "code",
   "execution_count": null,
   "metadata": {},
   "outputs": [],
   "source": []
  },
  {
   "cell_type": "markdown",
   "metadata": {},
   "source": [
    "\n",
    "27. WAP to find if a nummber or string is palindrome or not.  \n"
   ]
  },
  {
   "cell_type": "code",
   "execution_count": null,
   "metadata": {},
   "outputs": [],
   "source": []
  },
  {
   "cell_type": "markdown",
   "metadata": {},
   "source": [
    "\n",
    "28. WAP to find greatest of number using loop.  \n"
   ]
  },
  {
   "cell_type": "code",
   "execution_count": null,
   "metadata": {},
   "outputs": [],
   "source": []
  },
  {
   "cell_type": "markdown",
   "metadata": {},
   "source": [
    "\n",
    "29. WAP to print fibonacci series.  \n"
   ]
  },
  {
   "cell_type": "code",
   "execution_count": null,
   "metadata": {},
   "outputs": [],
   "source": []
  },
  {
   "cell_type": "markdown",
   "metadata": {},
   "source": [
    "\n",
    "30. WAP to find factorial using recursion.  \n"
   ]
  },
  {
   "cell_type": "code",
   "execution_count": null,
   "metadata": {},
   "outputs": [],
   "source": []
  },
  {
   "cell_type": "markdown",
   "metadata": {},
   "source": [
    "\n",
    "31. WAP to find if a number is armstrong or not.  \n"
   ]
  },
  {
   "cell_type": "code",
   "execution_count": null,
   "metadata": {},
   "outputs": [],
   "source": []
  },
  {
   "cell_type": "markdown",
   "metadata": {},
   "source": [
    "\n",
    "32. Write a menu driven program to find the reverse of a number and sum of digits. "
   ]
  },
  {
   "cell_type": "code",
   "execution_count": null,
   "metadata": {},
   "outputs": [],
   "source": []
  },
  {
   "cell_type": "markdown",
   "metadata": {},
   "source": [
    "***"
   ]
  }
 ],
 "metadata": {
  "kernelspec": {
   "display_name": "base",
   "language": "python",
   "name": "python3"
  },
  "language_info": {
   "codemirror_mode": {
    "name": "ipython",
    "version": 3
   },
   "file_extension": ".py",
   "mimetype": "text/x-python",
   "name": "python",
   "nbconvert_exporter": "python",
   "pygments_lexer": "ipython3",
   "version": "3.12.4"
  }
 },
 "nbformat": 4,
 "nbformat_minor": 2
}
