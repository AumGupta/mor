{
 "cells": [
  {
   "cell_type": "markdown",
   "metadata": {},
   "source": [
    "Q1. System generated password. Three list: alphabet, numbers and symbols. Two levels easy and hard (shuffled)."
   ]
  },
  {
   "cell_type": "code",
   "execution_count": 20,
   "metadata": {},
   "outputs": [],
   "source": [
    "from random import shuffle, randint, choice"
   ]
  },
  {
   "cell_type": "code",
   "execution_count": 18,
   "metadata": {},
   "outputs": [
    {
     "name": "stdout",
     "output_type": "stream",
     "text": [
      "Generated Password: \n",
      "\tEasy: LXK907$&# \n",
      "\tHard: K#079LX&$\n"
     ]
    }
   ],
   "source": [
    "a = int(input(\"Enter the number of alphabets in your password:\"))\n",
    "d = int(input(\"Enter the number of digits in your password:\"))\n",
    "s = int(input(\"Enter the number of symbols in your password:\"))\n",
    "\n",
    "def get_alpha():\n",
    "    return chr(randint(65, 90))\n",
    "\n",
    "def get_digit():\n",
    "    return str(randint(0,9))\n",
    "\n",
    "symbols = \"~!@#$%^&*()_+-=\"\n",
    "def get_symbol():\n",
    "    return symbols[randint(0,len(symbols)-1)]\n",
    "\n",
    "\n",
    "password = \"\"\n",
    "\n",
    "for i in range(a):\n",
    "    password += get_alpha()\n",
    "for i in range(d):\n",
    "    password += get_digit()\n",
    "for i in range(s):\n",
    "    password += get_symbol()\n",
    "\n",
    "l = list(password)\n",
    "shuffle(l)\n",
    "hard_password = \"\"\n",
    "for i in l:\n",
    "    hard_password += i\n",
    "\n",
    "print(f\"Generated Password: \\n\\tEasy: {password} \\n\\tHard: {hard_password}\")"
   ]
  },
  {
   "cell_type": "markdown",
   "metadata": {},
   "source": [
    "Q2. Ask any question. ask left - right, "
   ]
  },
  {
   "cell_type": "code",
   "execution_count": 22,
   "metadata": {},
   "outputs": [
    {
     "name": "stdout",
     "output_type": "stream",
     "text": [
      "Treasure not found.\n"
     ]
    }
   ],
   "source": [
    "def final_ans():\n",
    "    aF = input(\"Which color do you like from red, green and blue? R for Red, G for Green, B for Blue: \")\n",
    "    if aF.lower().strip() == choice([\"r\", \"g\", \"b\"]):\n",
    "        return \"Treasure found\"\n",
    "    return \"Treasure not found\"\n",
    "\n",
    "a1 = input(\"Q1. Do you wish to go left or right (Choose L for left and R for right): \")\n",
    "\n",
    "if a1.lower().strip() == choice([\"l\", \"r\"]):\n",
    "    a2 = input(\"Q2. Do you like python? Y for yes / N for no: \")\n",
    "    if a2.lower().strip() == choice([\"y\", \"n\"]):\n",
    "        print(final_ans())\n",
    "    else:\n",
    "        print(\"Treasure not found.\")\n",
    "else:\n",
    "    a3 = input(\"Q3. Do you like python or cpp? 1 for python / 2 for cpp: \")\n",
    "    if a1.lower().strip() == choice([\"1\", \"2\"]):\n",
    "        print(final_ans())\n",
    "    else:\n",
    "        print(\"Treasure not found.\")\n"
   ]
  },
  {
   "cell_type": "code",
   "execution_count": null,
   "metadata": {},
   "outputs": [],
   "source": []
  }
 ],
 "metadata": {
  "kernelspec": {
   "display_name": "Python 3",
   "language": "python",
   "name": "python3"
  },
  "language_info": {
   "codemirror_mode": {
    "name": "ipython",
    "version": 3
   },
   "file_extension": ".py",
   "mimetype": "text/x-python",
   "name": "python",
   "nbconvert_exporter": "python",
   "pygments_lexer": "ipython3",
   "version": "3.12.5"
  }
 },
 "nbformat": 4,
 "nbformat_minor": 2
}
