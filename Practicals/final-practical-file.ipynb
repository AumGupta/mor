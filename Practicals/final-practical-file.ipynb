{
 "cells": [
  {
   "cell_type": "markdown",
   "metadata": {},
   "source": [
    "1. WAP to compute the roots of a quadratic equation. \n",
    "\n",
    "2. WAP to play Stone, Paper, Scissors with Computer. \n",
    "\n",
    "3. Write a program for BMI Calculator with Categorization of underweight, normal weight and overweight. \n",
    "\n",
    "4. WAP to demonstrate exception handling of Zero Division Error. \n",
    "\n",
    "5. WAP to demonstrate OOPs using user defined Cuboid Class. \n",
    "\n",
    "6. WAP to demonstrate inheritance in OOPs using user defined Rectangle and Cuboid Class. \n",
    "\n",
    "7. Write a Program to implement Inheritance. Create a class Employee inherit two classes Manager and Clerk from Employee. \n",
    "\n",
    "8. WAP to demonstrate the demarcation of class variable and instance variable in OOP using Employee Class. \n",
    "\n",
    "9. Write a Program to determine EOQ using various inventory models. \n",
    "\n",
    "10. Write a Program to determine different characteristics using various Queuing models. \n",
    "\n",
    "11. WAP to plot a graph for function (y=X2).  \n",
    "\n",
    "12. WAP to fit poisson distribution on a given data.  \n",
    "\n",
    "13. Write a python function that calculates the pierson correlation cofficient between two lists of numbers.  \n",
    "\n",
    "14. Write a python function that calculates Spareman correlation cofficient.\n",
    "\n",
    "15. Using matplotlib plot histogram of list of numbers.  \n",
    "\n",
    "16. Write a python function that calculates the Z-score for the lists of numbers.  \n",
    "\n",
    "17. WAP to test the significance of two sample means.  \n",
    "\n",
    "18. WAP to test the goodness of fit of a given dataset on binomial distribution.  \n",
    "\n",
    "19. WAP to test significance of two sample variance.  \n",
    "\n",
    "20. WAP to implement linear regression in python.  \n",
    "\n",
    "21. WAP to plot piechart on consumption of water in daily life.  \n",
    "\n",
    "22. WAP to plot bar chart to display result for 10th, 12th, 1st year, 2nd year, 3rd year CGPA.  \n",
    "\n",
    "23. WAP to perform various statistical measures using pandas.  \n",
    "\n",
    "24. WAP to perform read and write operations with csv files.  \n",
    "\n",
    "25. WAP to compute values of Sin x using taylor series.  \n",
    "\n",
    "26. WAP to display the following pattern \n",
    "```python\n",
    "                5\n",
    "               45\n",
    "              345\n",
    "             2345\n",
    "            12345\n",
    "```\n",
    "\n",
    "27. WAP to find if a nummber or string is palindrome or not.  \n",
    "\n",
    "28. WAP to find greatest of number using loop.  \n",
    "\n",
    "29. WAP to print fibonacci series.  \n",
    "\n",
    "30. WAP to find factorial using recursion.  \n",
    "\n",
    "31. WAP to find if a number is armstrong or not.  \n",
    "\n",
    "32. Write a menu driven program to find the reverse of a number and sum of digits. "
   ]
  },
  {
   "cell_type": "markdown",
   "metadata": {},
   "source": [
    "1. WAP to compute the roots of a quadratic equation. "
   ]
  },
  {
   "cell_type": "code",
   "execution_count": null,
   "metadata": {},
   "outputs": [],
   "source": []
  },
  {
   "cell_type": "markdown",
   "metadata": {},
   "source": [
    "\n",
    "2. WAP to play Stone, Paper, Scissors with Computer. \n"
   ]
  },
  {
   "cell_type": "code",
   "execution_count": null,
   "metadata": {},
   "outputs": [],
   "source": []
  },
  {
   "cell_type": "markdown",
   "metadata": {},
   "source": [
    "\n",
    "3. Write a program for BMI Calculator with Categorization of underweight, normal weight and overweight. \n"
   ]
  },
  {
   "cell_type": "code",
   "execution_count": null,
   "metadata": {},
   "outputs": [],
   "source": []
  },
  {
   "cell_type": "markdown",
   "metadata": {},
   "source": [
    "\n",
    "4. WAP to demonstrate exception handling of Zero Division Error. \n"
   ]
  },
  {
   "cell_type": "code",
   "execution_count": null,
   "metadata": {},
   "outputs": [],
   "source": []
  },
  {
   "cell_type": "markdown",
   "metadata": {},
   "source": [
    "\n",
    "5. WAP to demonstrate OOPs using user defined Cuboid Class. \n"
   ]
  },
  {
   "cell_type": "code",
   "execution_count": null,
   "metadata": {},
   "outputs": [],
   "source": []
  },
  {
   "cell_type": "markdown",
   "metadata": {},
   "source": [
    "\n",
    "6. WAP to demonstrate inheritance in OOPs using user defined Rectangle and Cuboid Class. \n"
   ]
  },
  {
   "cell_type": "code",
   "execution_count": null,
   "metadata": {},
   "outputs": [],
   "source": []
  },
  {
   "cell_type": "markdown",
   "metadata": {},
   "source": [
    "\n",
    "7. Write a Program to implement Inheritance. Create a class Employee inherit two classes Manager and Clerk from Employee. \n"
   ]
  },
  {
   "cell_type": "code",
   "execution_count": null,
   "metadata": {},
   "outputs": [],
   "source": []
  },
  {
   "cell_type": "markdown",
   "metadata": {},
   "source": [
    "\n",
    "8. WAP to demonstrate the demarcation of class variable and instance variable in OOP using Employee Class. \n"
   ]
  },
  {
   "cell_type": "code",
   "execution_count": null,
   "metadata": {},
   "outputs": [],
   "source": []
  },
  {
   "cell_type": "markdown",
   "metadata": {},
   "source": [
    "\n",
    "9. Write a Program to determine EOQ using various inventory models. \n"
   ]
  },
  {
   "cell_type": "code",
   "execution_count": null,
   "metadata": {},
   "outputs": [],
   "source": []
  },
  {
   "cell_type": "markdown",
   "metadata": {},
   "source": [
    "\n",
    "10. Write a Program to determine different characteristics using various Queuing models. \n"
   ]
  },
  {
   "cell_type": "code",
   "execution_count": null,
   "metadata": {},
   "outputs": [],
   "source": []
  },
  {
   "cell_type": "markdown",
   "metadata": {},
   "source": [
    "\n",
    "11. WAP to plot a graph for function $y = x^2$.  \n"
   ]
  },
  {
   "cell_type": "code",
   "execution_count": null,
   "metadata": {},
   "outputs": [],
   "source": []
  },
  {
   "cell_type": "markdown",
   "metadata": {},
   "source": [
    "\n",
    "12. WAP to fit poisson distribution on a given data.  \n"
   ]
  },
  {
   "cell_type": "code",
   "execution_count": null,
   "metadata": {},
   "outputs": [],
   "source": []
  },
  {
   "cell_type": "markdown",
   "metadata": {},
   "source": [
    "\n",
    "13. Write a python function that calculates the pierson correlation cofficient between two lists of numbers.  \n"
   ]
  },
  {
   "cell_type": "code",
   "execution_count": null,
   "metadata": {},
   "outputs": [],
   "source": []
  },
  {
   "cell_type": "markdown",
   "metadata": {},
   "source": [
    "\n",
    "14. Write a python function that calculates Spareman correlation cofficient.\n"
   ]
  },
  {
   "cell_type": "code",
   "execution_count": null,
   "metadata": {},
   "outputs": [],
   "source": []
  },
  {
   "cell_type": "markdown",
   "metadata": {},
   "source": [
    "\n",
    "15. Using matplotlib plot histogram of list of numbers.  \n"
   ]
  },
  {
   "cell_type": "code",
   "execution_count": null,
   "metadata": {},
   "outputs": [],
   "source": []
  },
  {
   "cell_type": "markdown",
   "metadata": {},
   "source": [
    "\n",
    "16. Write a python function that calculates the Z-score for the lists of numbers.  \n"
   ]
  },
  {
   "cell_type": "code",
   "execution_count": null,
   "metadata": {},
   "outputs": [],
   "source": []
  },
  {
   "cell_type": "markdown",
   "metadata": {},
   "source": [
    "\n",
    "17. WAP to test the significance of two sample means.  \n"
   ]
  },
  {
   "cell_type": "code",
   "execution_count": null,
   "metadata": {},
   "outputs": [],
   "source": []
  },
  {
   "cell_type": "markdown",
   "metadata": {},
   "source": [
    "\n",
    "18. WAP to test the goodness of fit of a given dataset on binomial distribution.  \n"
   ]
  },
  {
   "cell_type": "code",
   "execution_count": null,
   "metadata": {},
   "outputs": [],
   "source": []
  },
  {
   "cell_type": "markdown",
   "metadata": {},
   "source": [
    "\n",
    "19. WAP to test significance of two sample variance.  \n"
   ]
  },
  {
   "cell_type": "code",
   "execution_count": null,
   "metadata": {},
   "outputs": [],
   "source": []
  },
  {
   "cell_type": "markdown",
   "metadata": {},
   "source": [
    "\n",
    "20. WAP to implement linear regression in python.  \n"
   ]
  },
  {
   "cell_type": "code",
   "execution_count": null,
   "metadata": {},
   "outputs": [],
   "source": []
  },
  {
   "cell_type": "markdown",
   "metadata": {},
   "source": [
    "\n",
    "21. WAP to plot piechart on consumption of water in daily life.  \n"
   ]
  },
  {
   "cell_type": "code",
   "execution_count": null,
   "metadata": {},
   "outputs": [],
   "source": []
  },
  {
   "cell_type": "markdown",
   "metadata": {},
   "source": [
    "\n",
    "22. WAP to plot bar chart to display result for 10th, 12th, 1st year, 2nd year, 3rd year CGPA.  \n"
   ]
  },
  {
   "cell_type": "code",
   "execution_count": null,
   "metadata": {},
   "outputs": [],
   "source": []
  },
  {
   "cell_type": "markdown",
   "metadata": {},
   "source": [
    "\n",
    "23. WAP to perform various statistical measures using pandas.  \n"
   ]
  },
  {
   "cell_type": "code",
   "execution_count": null,
   "metadata": {},
   "outputs": [],
   "source": []
  },
  {
   "cell_type": "markdown",
   "metadata": {},
   "source": [
    "\n",
    "24. WAP to perform read and write operations with csv files.  \n"
   ]
  },
  {
   "cell_type": "code",
   "execution_count": null,
   "metadata": {},
   "outputs": [],
   "source": []
  },
  {
   "cell_type": "markdown",
   "metadata": {},
   "source": [
    "\n",
    "25. WAP to compute values of Sin x using taylor series.  \n"
   ]
  },
  {
   "cell_type": "code",
   "execution_count": null,
   "metadata": {},
   "outputs": [],
   "source": []
  },
  {
   "cell_type": "markdown",
   "metadata": {},
   "source": [
    "\n",
    "26. WAP to display the following pattern \n",
    "```python\n",
    "                5\n",
    "               45\n",
    "              345\n",
    "             2345\n",
    "            12345\n",
    "```\n"
   ]
  },
  {
   "cell_type": "code",
   "execution_count": null,
   "metadata": {},
   "outputs": [],
   "source": []
  },
  {
   "cell_type": "markdown",
   "metadata": {},
   "source": [
    "\n",
    "27. WAP to find if a nummber or string is palindrome or not.  \n"
   ]
  },
  {
   "cell_type": "code",
   "execution_count": null,
   "metadata": {},
   "outputs": [],
   "source": []
  },
  {
   "cell_type": "markdown",
   "metadata": {},
   "source": [
    "\n",
    "28. WAP to find greatest of number using loop.  \n"
   ]
  },
  {
   "cell_type": "code",
   "execution_count": null,
   "metadata": {},
   "outputs": [],
   "source": []
  },
  {
   "cell_type": "markdown",
   "metadata": {},
   "source": [
    "\n",
    "29. WAP to print fibonacci series.  \n"
   ]
  },
  {
   "cell_type": "code",
   "execution_count": null,
   "metadata": {},
   "outputs": [],
   "source": []
  },
  {
   "cell_type": "markdown",
   "metadata": {},
   "source": [
    "\n",
    "30. WAP to find factorial using recursion.  \n"
   ]
  },
  {
   "cell_type": "code",
   "execution_count": null,
   "metadata": {},
   "outputs": [],
   "source": []
  },
  {
   "cell_type": "markdown",
   "metadata": {},
   "source": [
    "\n",
    "31. WAP to find if a number is armstrong or not.  \n"
   ]
  },
  {
   "cell_type": "code",
   "execution_count": null,
   "metadata": {},
   "outputs": [],
   "source": []
  },
  {
   "cell_type": "markdown",
   "metadata": {},
   "source": [
    "\n",
    "32. Write a menu driven program to find the reverse of a number and sum of digits. "
   ]
  },
  {
   "cell_type": "code",
   "execution_count": null,
   "metadata": {},
   "outputs": [],
   "source": []
  },
  {
   "cell_type": "markdown",
   "metadata": {},
   "source": [
    "***"
   ]
  }
 ],
 "metadata": {
  "kernelspec": {
   "display_name": "base",
   "language": "python",
   "name": "python3"
  },
  "language_info": {
   "name": "python",
   "version": "3.12.4"
  }
 },
 "nbformat": 4,
 "nbformat_minor": 2
}
