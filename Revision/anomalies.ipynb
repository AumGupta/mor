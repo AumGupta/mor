{
 "cells": [
  {
   "cell_type": "code",
   "execution_count": 3,
   "metadata": {},
   "outputs": [
    {
     "name": "stdout",
     "output_type": "stream",
     "text": [
      "False\n",
      "0.09999999999999998\n"
     ]
    }
   ],
   "source": [
    "print(0.3-0.2 == 0.1)\n",
    "\n",
    "print(0.3-0.2)"
   ]
  },
  {
   "cell_type": "markdown",
   "metadata": {},
   "source": [
    "# Why is `0.3 - 0.2 == 0.1` False in Python?\n",
    "\n",
    "In Python (and most programming languages), `0.3 - 0.2 == 0.1` evaluates to `False` due to **floating-point precision errors**. Floating-point numbers are represented in a binary format, which cannot exactly represent some decimal fractions, leading to slight inaccuracies.\n",
    "\n",
    "---\n",
    "\n",
    "## Explanation:\n",
    "\n",
    "### 1. **Binary Representation**:\n",
    "- Numbers like `0.1`, `0.2`, and `0.3` are repeating fractions in binary (similar to how `1/3` is repeating in decimal).\n",
    "- For example:\n",
    "  - `0.1` in binary: `0.0001100110011...` (repeating).\n",
    "  - These numbers are approximated to the closest value that can be stored in a fixed number of bits.\n",
    "\n",
    "---\n",
    "\n",
    "### 2. **What Happens in Python**:\n",
    "- When you calculate `0.3 - 0.2`, Python stores an approximation, which is slightly different from `0.1`:\n",
    "  - `0.3 - 0.2` results in something like `0.09999999999999998`.\n",
    "  - `0.1` is stored as something like `0.10000000000000001`.\n",
    "- These two values are not exactly equal, so `0.3 - 0.2 == 0.1` returns `False`.\n",
    "\n",
    "---\n",
    "\n",
    "## How to Handle This:\n",
    "\n",
    "To compare floating-point numbers, use the `math.isclose` method or set a tolerance for the comparison.\n",
    "\n",
    "### Example:\n",
    "```python\n",
    "import math\n",
    "\n",
    "print(math.isclose(0.3 - 0.2, 0.1))  # True\n",
    "```\n",
    "\n",
    "Here, `math.isclose` checks if the two numbers are nearly equal within a specified tolerance (default is very small)."
   ]
  },
  {
   "cell_type": "code",
   "execution_count": null,
   "metadata": {},
   "outputs": [
    {
     "data": {
      "text/plain": [
       "0.09999999999999998"
      ]
     },
     "execution_count": 2,
     "metadata": {},
     "output_type": "execute_result"
    }
   ],
   "source": []
  },
  {
   "cell_type": "code",
   "execution_count": null,
   "metadata": {},
   "outputs": [],
   "source": []
  }
 ],
 "metadata": {
  "kernelspec": {
   "display_name": "base",
   "language": "python",
   "name": "python3"
  },
  "language_info": {
   "codemirror_mode": {
    "name": "ipython",
    "version": 3
   },
   "file_extension": ".py",
   "mimetype": "text/x-python",
   "name": "python",
   "nbconvert_exporter": "python",
   "pygments_lexer": "ipython3",
   "version": "3.12.4"
  }
 },
 "nbformat": 4,
 "nbformat_minor": 2
}
