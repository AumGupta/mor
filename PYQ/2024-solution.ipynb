{
 "cells": [
  {
   "cell_type": "markdown",
   "metadata": {},
   "source": [
    "## 1. a) Give the difference between type casting and automatic type conversion. Also, give a suitable Python code to illustrate both.\n",
    "\n",
    "| Feature | Type Casting | Automatic Type Conversion |\n",
    "|-|-|-|\n",
    "| **Definition** | Explicit conversion by the programmer. | Implicit conversion by Python (PVM). |\n",
    "| **Control** | Requires explicit instructions (e.g., `int()`, `float()`). | Happens automatically during operations. |\n",
    "| **Example**  | `int(\"123\")` converts string to integer.  | Adding `5 + 3.2` converts `5` to float. |"
   ]
  },
  {
   "cell_type": "markdown",
   "metadata": {},
   "source": [
    "---"
   ]
  },
  {
   "cell_type": "markdown",
   "metadata": {},
   "source": [
    "## 1. b) Describe about syntax error, runtime error and logical error.\n",
    "\n",
    "| Aspect                | **Syntax Errors**                          | **Runtime Errors**                         | **Semantic (Logical) Errors**              |\n",
    "|-----------------------|--------------------------------------------|-------------------------------------------|--------------------------------------------|\n",
    "| **Definition**        | Errors in the code structure or syntax that prevent execution. | Errors that occur during program execution (Exceptions). | Errors in logic that lead to incorrect results despite successful execution. |\n",
    "| **When Detected**     | Before execution (During the compilation or interpretation phase). | During excution.              | After execution (During testing phase). |\n",
    "| **Cause**             | Violations of language rules. | Invalid operations (e.g., division by zero, accessing undefined variables). | Flaws in program logic/Algorithm leading to unexpected ouputs. |\n",
    "| **Examples**          | `if x = 5:` (should be `if x == 5:`)       | `print(5 / 0)` (division by zero)          | Calculating the area of a rectangle as `length + width` instead of `length * width`. |\n",
    "| **Resolution**        | Fix the syntax to adhere to language rules. | Exception handling. | Correct the logic or algorithm.            |\n"
   ]
  },
  {
   "cell_type": "markdown",
   "metadata": {},
   "source": [
    "---"
   ]
  },
  {
   "cell_type": "markdown",
   "metadata": {},
   "source": [
    "## 1. c) Describe various features of Python.\n",
    "\n",
    "1. **Easy to learn and use** – Simple and intuitive syntax.  \n",
    "2. **Interpreted** – Executes code line-by-line (Technically compiled then interpreted).  \n",
    "3. **Dynamically typed** – No need for explicit variable type declaration.  \n",
    "4. **Platform independent** – Works across multiple operating systems.  \n",
    "5. **Extensive libraries** – Offers built-in and third-party modules.  \n",
    "6. **Open source** – Free to use, modify, and distribute.  \n",
    "7. **Object-oriented** – Supports object-oriented programming.  \n",
    "8. **High-level language** – Abstracts low-level details.  \n",
    "9. **Multi-paradigm support** – Procedural, object-oriented, and functional programming.  \n",
    "10. **Automatic memory management** – Handles garbage collection automatically.  "
   ]
  },
  {
   "cell_type": "markdown",
   "metadata": {},
   "source": [
    "## 1. d) Write an iterative program (non-recursive) that asks the user to enter an integer and computes the factorial Of that integer, usually written n! in mathematics."
   ]
  },
  {
   "cell_type": "code",
   "execution_count": 2,
   "metadata": {},
   "outputs": [],
   "source": [
    "def factorial(n:int)->int:\n",
    "    assert n>=0, \"n should be a positive integers.\"\n",
    "    f = 1\n",
    "    for i in range(1, n+1):\n",
    "        f *= i\n",
    "    return f"
   ]
  },
  {
   "cell_type": "code",
   "execution_count": 3,
   "metadata": {},
   "outputs": [
    {
     "data": {
      "text/plain": [
       "120"
      ]
     },
     "execution_count": 3,
     "metadata": {},
     "output_type": "execute_result"
    }
   ],
   "source": [
    "factorial(5)"
   ]
  },
  {
   "cell_type": "markdown",
   "metadata": {},
   "source": [
    "## 2. a) How multiple inheritance is different from multi-level inheritance? Explain with the help of example.\n",
    "\n",
    "\n",
    "| **Aspect**                | **Multiple Inheritance**                                                                 | **Multi-Level Inheritance**                                                      |\n",
    "|---------------------------|-----------------------------------------------------------------------------------------|----------------------------------------------------------------------------------|\n",
    "| **Definition**            | A class inherits from multiple parent classes.                                         | A class inherits from a child class, which in turn inherits from another parent class. |\n",
    "| **Hierarchy**             | Involves multiple base classes directly inherited by a single class.                   | Involves a chain of inheritance (a class inherits from a child class that inherits from another parent). |\n",
    "| **Example**               | `class A, B: class C(A, B)`: Class `C` inherits from both `A` and `B`.               | `class A: class B(A): class C(B)`: Class `C` inherits from `B`, which inherits from `A`. |\n",
    "| **Complexity**            | Can lead to ambiguity if not handled properly (diamond problem).                     | Simpler chain structure, representing a step-by-step inheritance path.           |"
   ]
  },
  {
   "cell_type": "code",
   "execution_count": 4,
   "metadata": {},
   "outputs": [],
   "source": [
    "# Multiple Inheritence\n",
    "class A:\n",
    "    name = \"A\"\n",
    "    \n",
    "class B:\n",
    "    name = \"B\"\n",
    "\n",
    "class C(A,B):\n",
    "    name = \"C\""
   ]
  },
  {
   "cell_type": "code",
   "execution_count": 5,
   "metadata": {},
   "outputs": [
    {
     "data": {
      "text/plain": [
       "(__main__.C, __main__.A, __main__.B, object)"
      ]
     },
     "execution_count": 5,
     "metadata": {},
     "output_type": "execute_result"
    }
   ],
   "source": [
    "C.__mro__"
   ]
  },
  {
   "cell_type": "code",
   "execution_count": 6,
   "metadata": {},
   "outputs": [],
   "source": [
    "# Multi-level Inheritence\n",
    "class A:\n",
    "    name = \"A\"\n",
    "\n",
    "class B(A):\n",
    "    name = \"B\"\n",
    "\n",
    "class C(B):\n",
    "    name = \"C\""
   ]
  },
  {
   "cell_type": "code",
   "execution_count": 7,
   "metadata": {},
   "outputs": [
    {
     "data": {
      "text/plain": [
       "(__main__.C, __main__.B, __main__.A, object)"
      ]
     },
     "execution_count": 7,
     "metadata": {},
     "output_type": "execute_result"
    }
   ],
   "source": [
    "C.__mro__"
   ]
  },
  {
   "cell_type": "markdown",
   "metadata": {},
   "source": [
    "> Python resolves multiple inheritances using the C3 linearization algorithm to determine the Method Resolution Order (MRO). This algorithm ensures that the inheritance order is consistent and that each class appears before its parents."
   ]
  },
  {
   "cell_type": "markdown",
   "metadata": {},
   "source": [
    "## 2. b) Explain the main features of an object oriented programming language."
   ]
  },
  {
   "cell_type": "markdown",
   "metadata": {},
   "source": [
    "1. **Encapsulation**: Groups data and methods into objects to limit direct access.\n",
    "2. **Abstraction**: Hides complex implementation details and exposes only essential features.\n",
    "3. **Inheritance**: Enables new classes to derive attributes and methods from existing ones.\n",
    "4. **Polymorphism**: Allows methods to have different implementations based on the context.\n",
    "5. **Modularity**: Promotes reusable, organized, and manageable code."
   ]
  },
  {
   "cell_type": "markdown",
   "metadata": {},
   "source": [
    "## 2. c) What advantages do NumPy arrays offer over (nested) Python lists?\n",
    "\n",
    "| **Feature**               | **NumPy Array**                                      | **Nested Python List**                          |\n",
    "|----------------------------|-----------------------------------------------------|------------------------------------------------|\n",
    "| **Performance**            | Faster due to C implementation and vectorization    | Slower as it relies on Python loops            |\n",
    "| **Memory Efficiency**      | More memory-efficient (contiguous memory storage)   | Less efficient due to overhead of references   |\n",
    "| **Broadcasting**           | Supports broadcasting for operations on different shapes | Not supported                                  |\n",
    "| **Convenience**            | Rich set of built-in functions (math, stats, etc.)  | Requires custom implementation for operations  |\n",
    "| **Data Type Consistency**  | Homogeneous (fixed type)                            | Heterogeneous (mixed types allowed)            |\n",
    "| **Indexing & Slicing**     | Advanced indexing, slicing, and boolean masking     | Limited to basic slicing and indexing          |"
   ]
  },
  {
   "cell_type": "markdown",
   "metadata": {},
   "source": [
    "## 2. d) Write a menu driven python program to perform various list operations, such as:\n",
    "i. Append an element\\\n",
    "ii. Insert an element\\\n",
    "iii. Append a list to the given list\\\n",
    "iv. Modify an existing element\\\n",
    "v. Delete an existing element from its position\\\n",
    "vi. Delete an existing element with a given value\\\n",
    "vii. Sort the list in ascending order\\\n",
    "viii. Sort the list in descending order\\\n",
    "(Hint: Say your list has 5 elements: `[24, 3, 86, 15, 7]`)"
   ]
  },
  {
   "cell_type": "code",
   "execution_count": 16,
   "metadata": {},
   "outputs": [
    {
     "name": "stdout",
     "output_type": "stream",
     "text": [
      "[24, 3, 86, 15, 7, 10]\n"
     ]
    }
   ],
   "source": [
    "l = [24, 3, 86, 15, 7]\n",
    "\n",
    "while True:\n",
    "    c = int(input(\"\"\"1. Append an element\\n\n",
    "                  2. Insert an element\\n\n",
    "                  3. Append a list to the given list\\n\n",
    "                  4. Modify an existing element\\n\n",
    "                  5. Delete an existing element from its position\\n\n",
    "                  6. Delete an existing element with a given value\\n\n",
    "                  7. Sort the list in ascending order\\n\n",
    "                  8. Sort the list in descending order\\n\n",
    "                  9. Exit\\n\n",
    "                  ENTER YOUR CHOICE (1-9): \"\"\"))\n",
    "    if c == 9:\n",
    "        break\n",
    "    elif c == 1:\n",
    "        n = int(input(\"Enter the element to be appended: \"))\n",
    "        l.append(n)\n",
    "    elif c == 2:\n",
    "        n = int(input(\"Enter the element to be inserted: \"))\n",
    "        index = int(input(\"Enter the index to insert the element at: \"))\n",
    "        l.insert(index, n)\n",
    "    elif c == 3:\n",
    "        l1 = input(\"Enter a comma separated list (e.g for [1, 2] enter 1, 2): \")\n",
    "        l.append([int(x) for x in l1.split(',')])\n",
    "    elif c == 4:\n",
    "        index = int(input(\"Enter the index of element to be modified: \"))\n",
    "        value = int(input(\"Enter the new value for the element: \"))\n",
    "        l[index] = value        \n",
    "    elif c == 5:\n",
    "        index = int(input(\"Enter the index of element to be deleted: \"))\n",
    "        l.pop(index)\n",
    "    elif c == 6:\n",
    "        value = int(input(\"Enter the value of the element to be deleted: \"))\n",
    "        l.remove(value)\n",
    "    elif c == 7:\n",
    "        l.sort()\n",
    "    elif c == 8:\n",
    "        l.sort(reverse=True)\n",
    "    else:\n",
    "        print(\"Error: Choose correct option (1-9).\")\n",
    "    print(l)"
   ]
  },
  {
   "cell_type": "markdown",
   "metadata": {},
   "source": [
    "## 3. a) Looking at the below code, write down the final values of A0, Al, A2 and A3.\n"
   ]
  },
  {
   "cell_type": "code",
   "execution_count": null,
   "metadata": {},
   "outputs": [
    {
     "name": "stdout",
     "output_type": "stream",
     "text": [
      "{'a': 1, 'b': 2, 'c': 3, 'd': 4, 'e': 5}\n",
      "range(0, 10)\n",
      "{0: 0, 1: 1, 2: 4, 3: 9, 4: 16, 5: 25, 6: 36, 7: 49, 8: 64, 9: 81}\n",
      "[[0, 0], [1, 1], [2, 4], [3, 9], [4, 16], [5, 25], [6, 36], [7, 49], [8, 64], [9, 81]]\n"
     ]
    }
   ],
   "source": [
    "A0 = dict(zip(('a', 'b', 'c', 'd', 'e'), (1, 2, 3, 4, 5)))\n",
    "A1 = range(10)\n",
    "A2 = {i:i*i for i in A1}\n",
    "A3 = [[i, i*i] for i in A1]\n",
    "\n",
    "print(A0) # {'a': 1, 'b': 2, 'c': 3, 'd': 4, 'e': 5}\n",
    "print(A1) # range(0, 10) <- Range Object\n",
    "print(A2) # {0: 0, 1: 1, 2: 4, 3: 9, 4: 16, 5: 25, 6: 36, 7: 49, 8: 64, 9: 81}\n",
    "print(A3) # [[0, 0], [1, 1], [2, 4], [3, 9], [4, 16], [5, 25], [6, 36], [7, 49], [8, 64], [9, 81]]"
   ]
  },
  {
   "cell_type": "markdown",
   "metadata": {},
   "source": [
    "## 3. b) Lists and tuples are similar in many ways with one major difference; that lists are mutable and tuples are not. Elaborate this and give an example of an operation that lists support, but tuples do not. Further, discuss, which data structure should be utilized under what circumstances.\n",
    "\n",
    "- The line \"lists are mutable and tuples are not\" implies that the elements of a list can be modified where as the elements of a tuple cannot be modified at the same memory location after creation. For instance,\n",
    "    ```python\n",
    "    l = [1,2,3]\n",
    "    l[0] = 5\n",
    "\n",
    "    t = [1,2,3]\n",
    "    t[0] = 5\n",
    "    ```\n",
    "    Here, l[0] = 5 will update the list l's first element to 5 but, t[0] = 5 will throw error as tuple does not support item assignment.\n",
    "\n",
    "- Example of operation supported by lists, but not tuple: `append`.\n",
    "    ```python\n",
    "    l = [1,2,3]\n",
    "    l.append(5) # l becomes [1, 2, 3, 4, 5]\n",
    "\n",
    "    t = [1,2,3]\n",
    "    t.append(5) # Throws error: Tuples do not support append\n",
    "    ```\n",
    "- We should use tuples when we need our data to remain unchanged for example storing coordinates of a geographical location (longitude, attitude), but if we want to change our data in future we should use lists for instance making list of students of a class (expecting new admissions and TCs).\n"
   ]
  },
  {
   "cell_type": "markdown",
   "metadata": {},
   "source": [
    "## 3. c) (ii)"
   ]
  },
  {
   "cell_type": "code",
   "execution_count": 54,
   "metadata": {},
   "outputs": [
    {
     "name": "stdout",
     "output_type": "stream",
     "text": [
      "Match at index 14, 21\n",
      "Full match: June 24\n",
      "Month: June\n",
      "Day: 24\n"
     ]
    }
   ],
   "source": [
    "import re\n",
    "\n",
    "regex = r\"([a-zA-Z]+) (\\d+)\"\n",
    "match = re.search(regex, \"I was born on June 24\")\n",
    "if match != None:\n",
    "    print(\"Match at index %s, %s\" % (match.start(), match.end()) )\n",
    "    print (\"Full match: %s\" % (match.group(0)) )\n",
    "    print (\"Month: %s\" % (match.group( 1)) )\n",
    "    print(\"Day: %s\" % (match.group(2)))\n",
    "else:\n",
    "    print(\"The regex pattern does not match.\")"
   ]
  },
  {
   "cell_type": "markdown",
   "metadata": {},
   "source": [
    "## 3. d) What does *args mean? Why is it used?\n",
    "\n",
    "`*args` is a special syntax in python which is used to pass a variable number of positional arguments to a function. Here the '*' is mandatory to write and `args` can be any other vaid name.\n",
    "\n",
    "**Why is it Used?:**\n",
    "\n",
    "1. **Flexibility**:\n",
    "   - It enables a function to accept an arbitrary number of arguments, making it more flexible.\n",
    "   - Example: A function to sum any number of numbers.\n",
    "\n",
    "2. **Readability**:\n",
    "   - It provides a clean and simple way to handle variable arguments instead of using workarounds like a list or manual unpacking.\n",
    "\n",
    "3. **Reusability**:\n",
    "   - It avoids the need to overload functions for different numbers of arguments.\n",
    "\n",
    "**Example:**\n",
    "\n",
    "```python\n",
    "def add_numbers(*args):\n",
    "    return sum(args)\n",
    "\n",
    "print(add_numbers(1, 2, 3))  # Output: 6\n",
    "print(add_numbers(10, 20, 30, 40))  # Output: 100\n",
    "```\n",
    "\n",
    "- The function can handle any number of inputs without requiring changes to its definition."
   ]
  },
  {
   "cell_type": "markdown",
   "metadata": {},
   "source": [
    "## 4 a) Create a class 'employee' for a company that should have the properties like the name of an employee, salary of an employee, employee ID and the designation. In the class, whenever an object of an employee is created, employee ID should be automatically formed. Further the class should have two functions — One function should show the details of the employees and other function should return the total number of employees. With respect to Object Oriented Programming, is there any special type of variable highlighted in the above code. Explain how the variable is different from Instance variable. "
   ]
  },
  {
   "cell_type": "code",
   "execution_count": 60,
   "metadata": {},
   "outputs": [
    {
     "name": "stdout",
     "output_type": "stream",
     "text": [
      "Employee ID: EMPDEV001\n",
      "Name: Raj\n",
      "Salary: 90000\n",
      "Designation: Developer\n",
      "\n",
      "Employee ID: EMPMAN002\n",
      "Name: Amit\n",
      "Salary: 60000\n",
      "Designation: Manager\n",
      "\n",
      "Total Employees: 2\n"
     ]
    }
   ],
   "source": [
    "class Employee:\n",
    "    total_employees = 0\n",
    "\n",
    "    def __init__(self, name, salary, designation):\n",
    "        self.name = name \n",
    "        self.salary = salary \n",
    "        self.designation = designation\n",
    "        Employee.total_employees += 1 \n",
    "        # For emp_id we have EMP + first 3 char of designation followed by count of employee\n",
    "        self.emp_id = f\"EMP{designation[:3].upper()}{Employee.total_employees:03}\"\n",
    "\n",
    "    def show_details(self):\n",
    "        print(f\"Employee ID: {self.emp_id}\")\n",
    "        print(f\"Name: {self.name}\")\n",
    "        print(f\"Salary: {self.salary}\")\n",
    "        print(f\"Designation: {self.designation}\")\n",
    "\n",
    "    @classmethod\n",
    "    def get_total_employees(cls):\n",
    "        return cls.total_employees\n",
    "\n",
    "\n",
    "employee1 = Employee(\"Raj\", 90000, \"Developer\")\n",
    "employee2 = Employee(\"Amit\", 60000, \"Manager\")\n",
    "\n",
    "employee1.show_details()\n",
    "print()\n",
    "employee2.show_details()\n",
    "print(\"\\nTotal Employees:\", Employee.get_total_employees())"
   ]
  },
  {
   "cell_type": "markdown",
   "metadata": {},
   "source": [
    "**Special Type of Variable highlighted in the above code: Class Variable**\n",
    "- A class variable is a variable that is declared inside the class but outside any instance method. \n",
    "- It is shared by all instances of the class.\n",
    "**Difference Between Class and Instance Variables:**\n",
    "\n",
    "| Feature                   | Instance Variable                           | Class Variable                            |\n",
    "|---------------------------|---------------------------------------------|-------------------------------------------|\n",
    "| **Scope**                 | Specific to an object.                     | Shared across all objects of the class.   |\n",
    "| **Storage**               | Stored in the instance (object) namespace. | Stored in the class namespace.            |\n",
    "| **Access**                | Accessed with `self.<variable>`.           | Accessed with `ClassName.<variable>` or `self.<variable>`. |\n",
    "| **Use Case**              | Used to store data unique to each object.  | Used for properties shared by all objects (e.g., counters). |\n",
    "| **Example**               | `self.name`, `self.salary`                 | `Employee.total_employees`                |"
   ]
  },
  {
   "cell_type": "markdown",
   "metadata": {},
   "source": [
    "---"
   ]
  },
  {
   "cell_type": "markdown",
   "metadata": {},
   "source": [
    "## 4. b) What is the purpose of using function in python programming? Give the syntax of defining a function in python.\n",
    "\n",
    "**Purpose:**\n",
    "1. **Code Reusability**: Avoid repetition by reusing code in multiple places.\n",
    "2. **Modularity**: Break a program into smaller, manageable parts.\n",
    "3. **Maintainability**: Simplify debugging and updating code.\n",
    "4. **Readability**: Improve understanding of the program structure.\n",
    "5. **Scalability**: Easily handle growing complexity by dividing logic into functions.\n",
    "\n",
    "**Syntax of Defining a Function in Python:**\n",
    "\n",
    "```python\n",
    "def function_name(parameters):\n",
    "    \"\"\"Optional docstring\"\"\"\n",
    "    # Function body\n",
    "    return value  # Optional\n",
    "```"
   ]
  },
  {
   "cell_type": "markdown",
   "metadata": {},
   "source": [
    "## 4. c) What are Lambda functions? Describe.\n",
    "\n",
    "Lambda functions are **anonymous, single-line functions** defined using the `lambda` keyword in Python. They are used to write quick, small functions without formally defining them using `def`.\n",
    "\n",
    "\n",
    "**Syntax:**\n",
    "```python\n",
    "lambda arguments: expression\n",
    "```\n",
    "- **`arguments`**: Inputs to the function.\n",
    "- **`expression`**: Single expression evaluated and returned.\n",
    "\n",
    "\n",
    "**Example:**\n",
    "```python\n",
    "square = lambda x: x**2\n",
    "print(square(5))  # Output: 25\n",
    "```"
   ]
  },
  {
   "cell_type": "markdown",
   "metadata": {},
   "source": [
    "## 4. d) What do you understand by local and global scope of variables? How can you access a global variable inside the function, if function has a variable with same name?\n",
    "\n",
    "Variabls can be of local or global scope. If they are defined at the top level of a script (outside any function) they have **global scope**, whereas if they are defined in the body of any funciton then they have **local scope**.\n",
    "\n",
    "If the funciton has a variable with same name as that of a global variable then the global variable has to be accessed using the `global` keyword.\n"
   ]
  },
  {
   "cell_type": "code",
   "execution_count": 62,
   "metadata": {},
   "outputs": [
    {
     "name": "stdout",
     "output_type": "stream",
     "text": [
      "1\n",
      "5\n",
      "5\n"
     ]
    }
   ],
   "source": [
    "a = 1\n",
    "print(a)\n",
    "def fun():\n",
    "    global a\n",
    "    a = 5\n",
    "    print(a)\n",
    "fun()\n",
    "print(a)"
   ]
  },
  {
   "cell_type": "markdown",
   "metadata": {},
   "source": [
    "---"
   ]
  },
  {
   "cell_type": "markdown",
   "metadata": {},
   "source": [
    "## 5. a) Write a program to calculate in how many days a work will be completed by three persons A, B and C together. A, B, C take x days, y days and z days respectively to do the job alone. The formula to calculate the number of days if they work together is xyz/(xy + yz + xz) days where x, y, and z are given as input to the program."
   ]
  },
  {
   "cell_type": "code",
   "execution_count": 65,
   "metadata": {},
   "outputs": [
    {
     "name": "stdout",
     "output_type": "stream",
     "text": [
      "Number of days required for A, B and C to complete the work together is 2.50\n"
     ]
    }
   ],
   "source": [
    "x = int(input(\"Enter number of days taken by A: \")) # 10\n",
    "y = int(input(\"Enter number of days taken by B: \")) # 5\n",
    "z = int(input(\"Enter number of days taken by C: \")) # 10\n",
    "\n",
    "d = (x*y*z)/(x*y+y*z+x*z)\n",
    "\n",
    "print(f\"Number of days required for A, B and C to complete the work together is {d:.2f}\")"
   ]
  },
  {
   "cell_type": "markdown",
   "metadata": {},
   "source": [
    "## 5. b) Compare recursive and iterative techniques for problem solving.\n",
    "\n",
    "| **Aspect**        | **Recursion**                               | **Iteration**                          |\n",
    "|--------------------|-----------------------------------------------|----------------------------------------|\n",
    "| **Definition**     | Function calls itself to solve subproblems.  | Uses loops (for/while) to repeat logic. |\n",
    "| **Memory Usage**   | Uses more memory due to the call stack.      | Uses less memory by reusing the same memory space. |\n",
    "| **Performance**    | Slower due to repeated calls and stack operations. | Generally faster and efficient. |\n",
    "| **Debugging**      | Harder to debug.                            | Easier to debug.                      |\n",
    "| **Complexity**     | Can be simpler for hierarchical/recursive problems. | Simpler for straightforward problems. |\n",
    "| **Example (Factorial)** | `def factorial(n):`<br>&nbsp;&nbsp;&nbsp;`if n == 0:`<br>&nbsp;&nbsp;&nbsp;&nbsp;&nbsp;&nbsp;`return 1`<br>&nbsp;&nbsp;&nbsp;`else:`<br>&nbsp;&nbsp;&nbsp;&nbsp;&nbsp;&nbsp;`return n * factorial(n - 1)`<br>`print(factorial(5))  # Output: 120` | `def factorial(n):`<br>&nbsp;&nbsp;&nbsp;`result = 1`<br>&nbsp;&nbsp;&nbsp;`for i in range(1, n + 1):`<br>&nbsp;&nbsp;&nbsp;&nbsp;&nbsp;&nbsp;`result *= i`<br>&nbsp;&nbsp;&nbsp;`return result`<br>`print(factorial(5))  # Output: 120` |"
   ]
  },
  {
   "cell_type": "markdown",
   "metadata": {},
   "source": [
    "---"
   ]
  },
  {
   "cell_type": "markdown",
   "metadata": {},
   "source": [
    "## 5. c)"
   ]
  },
  {
   "cell_type": "code",
   "execution_count": 66,
   "metadata": {},
   "outputs": [
    {
     "name": "stdout",
     "output_type": "stream",
     "text": [
      "   Roll No  Total  Percentage\n",
      "0        1    350          70\n",
      "1        2    400          80\n",
      "2        3    420          84\n"
     ]
    }
   ],
   "source": [
    "import pandas as pd\n",
    "d = {\"Roll No\":[1,2,3], \"Total\":[350,400,420], \"Percentage\":[70,80,84]}\n",
    "df = pd.DataFrame(d)\n",
    "\n",
    "print(df)"
   ]
  },
  {
   "cell_type": "markdown",
   "metadata": {},
   "source": [
    "---"
   ]
  },
  {
   "cell_type": "markdown",
   "metadata": {},
   "source": [
    "## 5. d)"
   ]
  },
  {
   "cell_type": "code",
   "execution_count": null,
   "metadata": {},
   "outputs": [
    {
     "data": {
      "image/png": "[encoded data removed]",
      "text/plain": [
       "<Figure size 640x480 with 1 Axes>"
      ]
     },
     "metadata": {},
     "output_type": "display_data"
    }
   ],
   "source": [
    "import matplotlib.pyplot as plt\n",
    "\n",
    "plt.bar(x = list(range(2019,2024)), height = [96.00,90.00,55.00,70.00,98.00])\n",
    "plt.title(\"Pass Percentage of MOR\")\n",
    "plt.xlabel(\"Year\")\n",
    "plt.ylabel(\"Percentage\")\n",
    "plt.show()"
   ]
  },
  {
   "cell_type": "markdown",
   "metadata": {},
   "source": [
    "---"
   ]
  },
  {
   "cell_type": "markdown",
   "metadata": {},
   "source": [
    "## 6. a)"
   ]
  },
  {
   "cell_type": "code",
   "execution_count": 75,
   "metadata": {},
   "outputs": [
    {
     "name": "stdout",
     "output_type": "stream",
     "text": [
      "3 1\n"
     ]
    }
   ],
   "source": [
    "class A:\n",
    "    def __init__(self,x):\n",
    "        self.x = x\n",
    "    def count(self,x):\n",
    "        self.x = self.x+1\n",
    "\n",
    "class B(A):\n",
    "    def __init__(self, y=0):\n",
    "        A.__init__(self, 3)\n",
    "        self.y = y\n",
    "    def count(self):\n",
    "        self.y += 1\n",
    "\n",
    "def main():\n",
    "    obj = B()\n",
    "    obj.count()\n",
    "    print(obj.x, obj.y)\n",
    "\n",
    "main()"
   ]
  },
  {
   "cell_type": "markdown",
   "metadata": {},
   "source": [
    "---"
   ]
  },
  {
   "cell_type": "markdown",
   "metadata": {},
   "source": [
    "## 6. b) Difference Between Condition-Controlled and Counter-Controlled Loops\n",
    "\n",
    "| **Aspect**                | **Condition-Controlled Loop**                         | **Counter-Controlled Loop**                      |\n",
    "|----------------------------|----------------------------------------------------|------------------------------------------------|\n",
    "| **Definition**             | Executes as long as a condition is `True`.          | Executes a fixed number of times (based on a counter). |\n",
    "| **Control Mechanism**      | Depends on a condition that is checked before/after each iteration. | Depends on a predetermined number of iterations. |\n",
    "| **Loop Type**              | `while` loop is usually used.                      | `for` loop is usually used.                   |\n",
    "| **Example Scenario**       | Loop runs until a condition becomes `False`.       | Loop runs for a specific number of times.     |\n",
    "\n",
    "\n",
    "**Examples**\n"
   ]
  },
  {
   "cell_type": "code",
   "execution_count": 76,
   "metadata": {},
   "outputs": [
    {
     "name": "stdout",
     "output_type": "stream",
     "text": [
      "Condition-Controlled Loop: 1\n",
      "Condition-Controlled Loop: 2\n",
      "Condition-Controlled Loop: 3\n",
      "Condition-Controlled Loop: 4\n",
      "Condition-Controlled Loop: 5\n",
      "Counter-Controlled Loop: 1\n",
      "Counter-Controlled Loop: 2\n",
      "Counter-Controlled Loop: 3\n",
      "Counter-Controlled Loop: 4\n",
      "Counter-Controlled Loop: 5\n"
     ]
    }
   ],
   "source": [
    "# Condition-Controlled Loop Example\n",
    "num = 1\n",
    "while num <= 5:  # Loop continues while condition is True\n",
    "    print(\"Condition-Controlled Loop:\", num)\n",
    "    num += 1\n",
    "\n",
    "# Counter-Controlled Loop Example\n",
    "for i in range(1, 6):  # Loop runs for a fixed number of times\n",
    "    print(\"Counter-Controlled Loop:\", i)"
   ]
  },
  {
   "cell_type": "markdown",
   "metadata": {},
   "source": [
    "---"
   ]
  },
  {
   "cell_type": "markdown",
   "metadata": {},
   "source": [
    "## 6. c)"
   ]
  },
  {
   "cell_type": "code",
   "execution_count": 78,
   "metadata": {},
   "outputs": [
    {
     "name": "stdout",
     "output_type": "stream",
     "text": [
      "[ 9 11 19  1 17  5  2  4]\n",
      "[False  True  True False  True False False False]\n",
      "[11 19 17]\n"
     ]
    }
   ],
   "source": [
    "import numpy as np\n",
    "b = np.array([9,11,19,1,17,5,2,4])\n",
    "print(b)\n",
    "bool_arr= b > 9\n",
    "print(bool_arr)\n",
    "new_arr = b[bool_arr]\n",
    "print(new_arr)"
   ]
  },
  {
   "cell_type": "markdown",
   "metadata": {},
   "source": [
    "---"
   ]
  },
  {
   "cell_type": "markdown",
   "metadata": {},
   "source": [
    "## 6. d) Explain the significance of \"Sequence\" in python. Further explain, why dictionary is not considered as a sequence?\n",
    "\n",
    "A **sequence** is a collection of items in Python that are **ordered** and can be accessed using indices. Sequences support indexing, slicing, and iteration.\n",
    "\n",
    "**Examples of Sequence Types**\n",
    "- **List**: Ordered, mutable (e.g., `[1, 2, 3]`).\n",
    "- **Tuple**: Ordered, immutable (e.g., `(1, 2, 3)`).\n",
    "- **String**: Ordered, immutable sequence of characters (e.g., `\"abc\"`).\n",
    "\n",
    "**Dictionary is NOT a Sequence because:**\n",
    "\n",
    "1. **Dictionaries are Unordered**:\n",
    "   - Dictionaries store key-value pairs (`key: value`) without any specific order prior to Python 3.7.\n",
    "   \n",
    "2. **No Indexing**:\n",
    "   - Unlike sequences, you cannot access dictionary items using indices (e.g., `dict[2]` is invalid).\n",
    "   \n",
    "3. **Key-based Access**:\n",
    "   - Dictionaries use **keys** for access, not indices."
   ]
  },
  {
   "cell_type": "markdown",
   "metadata": {},
   "source": [
    "---"
   ]
  },
  {
   "cell_type": "markdown",
   "metadata": {},
   "source": [
    "## 6. e) Demonstrate the utility of else clause in conjunction with if, for, and while statements.\n",
    "\n",
    "The `else` clause is used to handle the case when the initial condition fails in case of `if` and if the loop completes without `break` in case of `for` and `while`.\n",
    "\n",
    "**Example**\n",
    "\n",
    "- In `if`:"
   ]
  },
  {
   "cell_type": "code",
   "execution_count": 79,
   "metadata": {},
   "outputs": [
    {
     "name": "stdout",
     "output_type": "stream",
     "text": [
      "Smaller\n"
     ]
    }
   ],
   "source": [
    "a = 4\n",
    "if a>5:\n",
    "    print('Greater')\n",
    "else:\n",
    "    print('Smaller')"
   ]
  },
  {
   "cell_type": "markdown",
   "metadata": {},
   "source": [
    "- In `for`:"
   ]
  },
  {
   "cell_type": "code",
   "execution_count": null,
   "metadata": {},
   "outputs": [
    {
     "name": "stdout",
     "output_type": "stream",
     "text": [
      "in loop\n",
      "Loop over\n"
     ]
    }
   ],
   "source": [
    "for i in range(1):\n",
    "    print(\"In Loop\")\n",
    "else:\n",
    "    print(\"Loop over\")"
   ]
  },
  {
   "cell_type": "markdown",
   "metadata": {},
   "source": [
    "- In `while`:"
   ]
  },
  {
   "cell_type": "code",
   "execution_count": 81,
   "metadata": {},
   "outputs": [
    {
     "name": "stdout",
     "output_type": "stream",
     "text": [
      "In Loop\n",
      "Loop over\n"
     ]
    }
   ],
   "source": [
    "i = 1\n",
    "while i > 0:\n",
    "    print(\"In Loop\")\n",
    "    i-=1\n",
    "else:\n",
    "    print(\"Loop over\")"
   ]
  },
  {
   "cell_type": "code",
   "execution_count": null,
   "metadata": {},
   "outputs": [],
   "source": []
  }
 ],
 "metadata": {
  "kernelspec": {
   "display_name": "base",
   "language": "python",
   "name": "python3"
  },
  "language_info": {
   "codemirror_mode": {
    "name": "ipython",
    "version": 3
   },
   "file_extension": ".py",
   "mimetype": "text/x-python",
   "name": "python",
   "nbconvert_exporter": "python",
   "pygments_lexer": "ipython3",
   "version": "3.12.4"
  }
 },
 "nbformat": 4,
 "nbformat_minor": 2
}
