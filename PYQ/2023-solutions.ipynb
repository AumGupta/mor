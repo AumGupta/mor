{
 "cells": [
  {
   "cell_type": "markdown",
   "metadata": {},
   "source": [
    "# [Python Programming 2023](https://github.com/AumGupta/mor-python/blob/master/PYQ/2023-question-paper.pdf) - Solutions"
   ]
  },
  {
   "cell_type": "markdown",
   "metadata": {},
   "source": [
    "## 1. a) Explain the significance of \"Sequence\" in python. Further explain, why dictionary is not considered as a sequence?\n",
    "\n",
    "A **sequence** is a collection of items in Python that are **ordered** and can be accessed using indices. Sequences support indexing, slicing, and iteration.\n",
    "\n",
    "**Examples of Sequence Types**\n",
    "- **List**: Ordered, mutable (e.g., `[1, 2, 3]`).\n",
    "- **Tuple**: Ordered, immutable (e.g., `(1, 2, 3)`).\n",
    "- **String**: Ordered, immutable sequence of characters (e.g., `\"abc\"`).\n",
    "\n",
    "**Dictionary is NOT a Sequence because:**\n",
    "\n",
    "1. **Dictionaries are Unordered**:\n",
    "   - Dictionaries store key-value pairs (`key: value`) without any specific order prior to Python 3.7.\n",
    "   \n",
    "2. **No Indexing**:\n",
    "   - Unlike sequences, you cannot access dictionary items using indices (e.g., `dict[2]` is invalid).\n",
    "   \n",
    "3. **Key-based Access**:\n",
    "   - Dictionaries use **keys** for access, not indices."
   ]
  },
  {
   "cell_type": "markdown",
   "metadata": {},
   "source": [
    "---"
   ]
  },
  {
   "cell_type": "markdown",
   "metadata": {},
   "source": [
    "## 1. b) Explain binary left shift and binary right shin operators. Explain the same for number 29 when it is left shined by 2 and right shifted by 2.\n",
    "\n",
    "- **Left Shift Operator (<<)**: \n",
    "    - Shifts the bits of the operand to the left by the specified number of positions. \n",
    "    - aka \"Zero-Fill Left-Shift Operator\" as it fills the remaining spaces with 0\n",
    "    - Arithmetic Equivalent: $a<<n = a \\times 2^n$\n",
    "    - e.g. 29<<2 = 116\n",
    "- **Right Shift Operator (>>)**: \n",
    "    - Shifts the bits of the operand to the right by the specified number of positions. \n",
    "    - aka \"Signed Right-Shift Operator\" as it fills the vacated spaces with sign bit (if signed number else 0).\n",
    "    - Arithmetic Equivalent: $a>>n = \\lfloor a / 2^n \\rfloor$\n",
    "    - e.g. 29>>2 = 7\n",
    "\n",
    "$$\n",
    "[29]_{10} = [00011101]_2\\\\\n",
    "\\therefore 29<<2 = [01110100]_2 = [116]_{10}\\\\\n",
    "29>>2 = [00000111]_2 = [7]_{10}\n",
    "$$"
   ]
  },
  {
   "cell_type": "markdown",
   "metadata": {},
   "source": [
    "---"
   ]
  },
  {
   "cell_type": "markdown",
   "metadata": {},
   "source": [
    "## 1. c) Write the salient features of python programming language.\n",
    "\n",
    "1. **Easy to learn and use** – Simple and intuitive syntax.  \n",
    "2. **Interpreted** – Executes code line-by-line (Technically compiled then interpreted).  \n",
    "3. **Dynamically typed** – No need for explicit variable type declaration.  \n",
    "4. **Platform independent** – Works across multiple operating systems.  \n",
    "5. **Extensive libraries** – Offers built-in and third-party modules.  \n",
    "6. **Open source** – Free to use, modify, and distribute.  \n",
    "7. **Object-oriented** – Supports object-oriented programming.  \n",
    "8. **High-level language** – Abstracts low-level details.  \n",
    "9. **Multi-paradigm support** – Procedural, object-oriented, and functional programming.  \n",
    "10. **Automatic memory management** – Handles garbage collection automatically.  "
   ]
  },
  {
   "cell_type": "markdown",
   "metadata": {},
   "source": [
    "---"
   ]
  },
  {
   "cell_type": "markdown",
   "metadata": {},
   "source": [
    "## 1. d) What are negative indexes and why are they used?\n",
    "\n",
    "Negative indexes are used to access elements of a sequence from the **end**. The index `-n` Represents the $n^{th}$ element from end. \n",
    "They are used because they simplify accessing elements from the end of a sequence without needing to calculate positive indices.\n",
    "**Example**:\n",
    "```python\n",
    "l = [1, 2, 3, 4, 5]\n",
    "print(l[-1])  # Output: 5\n",
    "print(l[-2])  # Output: 4\n",
    "```\n"
   ]
  },
  {
   "cell_type": "markdown",
   "metadata": {},
   "source": [
    "---"
   ]
  },
  {
   "cell_type": "markdown",
   "metadata": {},
   "source": [
    "## 1. e) Differentiate between the following.\n",
    "### i. `re.search()` and `re.match()`\n",
    "\n",
    "\n",
    "| **Aspect**       | **`re.search()`**                               | **`re.match()`**                          |\n",
    "|-------------------|--------------------------------------------------|---------------------------------------------|\n",
    "| **Definition**    | Searches the entire string for a pattern.       | Checks for a match only at the **start** of the string. |\n",
    "| **Scope**         | Searches the whole string.                     | Only at the beginning of the string.      |\n",
    "| **Returns**       | `re.Match` object with first occurrence of the pattern. | `re.Match` object with first occurrence of the pattern **only** if the pattern matches at the start. |\n",
    "| **Example**       | `re.search('abc', 'xyzabc')` → matches.       | `re.match('abc', 'xyzabc')` → no match.  |\n",
    "\n",
    "\n",
    "### ii. `find()` and `index()`\n",
    "\n",
    "| **Aspect**       | **`find()`**                                  | **`index()`**                             |\n",
    "|-------------------|-------------------------------------------------|---------------------------------------------|\n",
    "| **Definition**    | Returns the index of the first occurrence of substring. Returns `-1` if not found. | Returns the index of the first occurrence. Raises `ValueError` if not found. |\n",
    "| **Behavior if not found** | Returns `-1`.                                 | Raises `ValueError`.                       |\n",
    "| **Example**       | `\"hello\".find('e')` → 1                       | `\"hello\".index('e')` → 1                 |\n",
    "| **Use Case**      | Safer when you are unsure if substring exists.  | Used when you expect substring to exist. |\n",
    "\n"
   ]
  },
  {
   "cell_type": "markdown",
   "metadata": {},
   "source": [
    "---"
   ]
  },
  {
   "cell_type": "markdown",
   "metadata": {},
   "source": [
    "## 1. f) When to use tuples in Python. Give some examples of programming situations mentioning its usefulness.\n",
    "\n",
    "In python, `tuples` should be preferred over any other sequence (e.g. lists) if the data is not supposed to be modified in future after creation as tuples are **immutable**.\n",
    "\n",
    " **When to Use Tuples**\n",
    "\n",
    "| **Condition**                     | **Reason**                               | **Example**                                      |\n",
    "|----------------------------------|----------------------------------------------|--------------------------------------------------|\n",
    "| **Immutable Data**                | When you want to ensure data cannot change. | Storing fixed data like coordinates: `(10, 20)` |\n",
    "| **Heterogeneous Data**            | When grouping related but different types of data. | Employee info: `(name, id, role) = ('Alice', 123, 'Manager')` |\n",
    "| **As Dictionary Keys**            | Tuples are hashable, while lists aren't.   | Using as keys in dictionary: `{(1,2): 'value'}` |\n",
    "| **Returning Multiple Values**     | Functions returning multiple values.       | `def func(): return 1, 2, 3`                   |\n",
    "| **Iterating Over Fixed Data**     | When you don't need to change data while iterating. | Loop through static values: `for i in (1, 2, 3):` |"
   ]
  },
  {
   "cell_type": "markdown",
   "metadata": {},
   "source": [
    "---"
   ]
  },
  {
   "cell_type": "markdown",
   "metadata": {},
   "source": [
    "## 2. c)\n",
    "\n",
    "i. 2 errors\n",
    "```python\n",
    "def f():\n",
    "    var= 100\n",
    "        print(var) # Indentation Error\n",
    "f()\n",
    "print(var) # Undefined Variable\n",
    "```\n",
    "ii. 2 errors\n",
    "```python\n",
    "def findValue( val1 = 1.1, val2, val3): # Defalut parameters (val1) cannot be defined before positional argument (val2, val3)\n",
    "    final = (val2 + val3)/ val1\n",
    "    print(final)\n",
    "findvalue() # Undefined function (lowercase v)\n",
    "```"
   ]
  },
  {
   "cell_type": "markdown",
   "metadata": {},
   "source": [
    "---"
   ]
  },
  {
   "cell_type": "markdown",
   "metadata": {},
   "source": [
    "## 2. e) What is the significance of a `pass` statement? Demonstrate its usage.\n",
    "\n",
    "The `pass` statement is used as a **placeholder** when a block of code is syntactically required but no logic needs to be implemented. It does nothing when executed.\n",
    "\n",
    "**Example:**\n",
    "\n",
    "```python\n",
    "def fun():\n",
    "    pass  # Placeholder with no operation\n",
    "\n",
    "fun()\n",
    "```\n",
    "\n",
    "This gives no output."
   ]
  },
  {
   "cell_type": "markdown",
   "metadata": {},
   "source": [
    "---"
   ]
  },
  {
   "cell_type": "markdown",
   "metadata": {},
   "source": [
    "### 3. b) With the help of an example, differentiate between Series and DataFrame in context of Panadas. \n",
    "\n",
    "\n",
    "| **Aspect**           | **Series**                               | **DataFrame**                                |\n",
    "|-----------------------|-------------------------------------------|----------------------------------------------|\n",
    "| **Definition**        | A one-dimensional labeled array.         | A two-dimensional labeled data structure.   |\n",
    "| **Data Structure**    | Similar to a single column or row.        | Similar to a table with rows and columns.   |\n",
    "| **Indexing**          | Has a single index.                      | Can have both row and column indices.       |\n",
    "| **Use Case**          | Storing a single variable or feature.     | Storing multiple variables/features.        |\n",
    "| **Example**           | `pd.Series([1, 2, 3])`                  | `pd.DataFrame({'A': [1, 2], 'B': [3, 4]})`  |\n",
    "\n",
    "\n",
    "**Example Code**\n"
   ]
  },
  {
   "cell_type": "code",
   "execution_count": 23,
   "metadata": {},
   "outputs": [
    {
     "name": "stdout",
     "output_type": "stream",
     "text": [
      "Series:\n",
      "a    10\n",
      "b    20\n",
      "c    30\n",
      "dtype: int64\n",
      "\n",
      "DataFrame:\n",
      "   Name  Age\n",
      "0   Raj   25\n",
      "1  Amit   30\n"
     ]
    }
   ],
   "source": [
    "import pandas as pd\n",
    "\n",
    "# Series Example\n",
    "series = pd.Series([10, 20, 30], index=['a', 'b', 'c'])\n",
    "print(\"Series:\")\n",
    "print(series)\n",
    "\n",
    "# DataFrame Example\n",
    "dataframe = pd.DataFrame({'Name': ['Raj', 'Amit'], 'Age': [25, 30]})\n",
    "print(\"\\nDataFrame:\")\n",
    "print(dataframe)"
   ]
  },
  {
   "cell_type": "markdown",
   "metadata": {},
   "source": [
    "> \n",
    "> **Note**:\\\n",
    "> Single column or row of a df is a series"
   ]
  },
  {
   "cell_type": "code",
   "execution_count": null,
   "metadata": {},
   "outputs": [
    {
     "data": {
      "text/plain": [
       "pandas.core.series.Series"
      ]
     },
     "execution_count": 26,
     "metadata": {},
     "output_type": "execute_result"
    }
   ],
   "source": [
    "type(dataframe['Name'])"
   ]
  },
  {
   "cell_type": "code",
   "execution_count": 32,
   "metadata": {},
   "outputs": [
    {
     "data": {
      "text/plain": [
       "pandas.core.series.Series"
      ]
     },
     "execution_count": 32,
     "metadata": {},
     "output_type": "execute_result"
    }
   ],
   "source": [
    "type(dataframe.loc[0])"
   ]
  },
  {
   "cell_type": "markdown",
   "metadata": {},
   "source": [
    "---"
   ]
  },
  {
   "cell_type": "markdown",
   "metadata": {},
   "source": [
    "## 3. c)"
   ]
  },
  {
   "cell_type": "code",
   "execution_count": 33,
   "metadata": {},
   "outputs": [
    {
     "name": "stdout",
     "output_type": "stream",
     "text": [
      "Currcnt variable value: 7\n",
      "Currcnt variable value: 5\n",
      "Currcnt variable value: 4\n",
      "Good bye!\n"
     ]
    }
   ],
   "source": [
    "var = 7\n",
    "while var > 0:\n",
    "    print('Currcnt variable value:', var)\n",
    "    var = var - 1\n",
    "    if var == 3:\n",
    "        break\n",
    "    else:\n",
    "        if var == 6:\n",
    "            var = var - 1\n",
    "            continue\n",
    "print(\"Good bye!\")"
   ]
  },
  {
   "cell_type": "markdown",
   "metadata": {},
   "source": [
    "---"
   ]
  },
  {
   "cell_type": "markdown",
   "metadata": {},
   "source": [
    "## 3. d)"
   ]
  },
  {
   "cell_type": "code",
   "execution_count": 34,
   "metadata": {},
   "outputs": [
    {
     "name": "stdout",
     "output_type": "stream",
     "text": [
      "Operational Research\n",
      "OeainlRsac\n",
      "h\n",
      "hree aotrp\n",
      "Operational Research\n",
      "oPERATIONAL rESEARCH\n"
     ]
    }
   ],
   "source": [
    "mySubject = \"Operational Research\"\n",
    "print(mySubject[0:len(mySubject)])\n",
    "print(mySubject[::2])\n",
    "print(mySubject[len(mySubject)-1])\n",
    "print(mySubject[::-2])\n",
    "print(mySubject[:3] + mySubject[3:])\n",
    "print(mySubject.swapcase())"
   ]
  },
  {
   "cell_type": "markdown",
   "metadata": {},
   "source": [
    "---"
   ]
  },
  {
   "cell_type": "markdown",
   "metadata": {},
   "source": [
    "## 4. a)"
   ]
  },
  {
   "cell_type": "code",
   "execution_count": 40,
   "metadata": {},
   "outputs": [
    {
     "name": "stdout",
     "output_type": "stream",
     "text": [
      "1 2 3 4 \n",
      "Continuing with 5\n",
      "\n",
      "Continuing with 6\n",
      "7 8 9 10 \n",
      "Done\n"
     ]
    }
   ],
   "source": [
    "i=0\n",
    "while i<10:\n",
    "    i=i+1\n",
    "    if(i==5 or i== 6):\n",
    "        print(\"\\nContinuing with\",i)\n",
    "        continue\n",
    "    if(i==9 and i==10):\n",
    "        print(\"\\nBreaking on\", i)\n",
    "        break\n",
    "    print(i, end =\" \")\n",
    "print(\"\\nDone\")"
   ]
  },
  {
   "cell_type": "markdown",
   "metadata": {},
   "source": [
    "---"
   ]
  },
  {
   "cell_type": "markdown",
   "metadata": {},
   "source": [
    "## 4. b)"
   ]
  },
  {
   "cell_type": "code",
   "execution_count": 46,
   "metadata": {},
   "outputs": [],
   "source": [
    "num = input('Enter a non-zero value:')\n",
    "while num == 0:\n",
    "    num = input('Enter a non-zero value:')"
   ]
  },
  {
   "cell_type": "markdown",
   "metadata": {},
   "source": [
    "Here we are taking a non-zero value from the user in `num` using the `input` function. Then we define a `while` loop with the condition `num == 0`, and inside the loop, we use the `input` function again to take a non-zero value in the `num` variable.\n",
    "\n",
    "**Output**:\n",
    "The code will only take input from the user. The `while` loop will never be entered because `num` will always have a `str` datatype, which can never be equal to `0` (an integer)."
   ]
  },
  {
   "cell_type": "markdown",
   "metadata": {},
   "source": [
    "## 4. c) What is a zip function? Explain it using an example.\n",
    "\n",
    "The `zip()` function combines two or more iterables (e.g., lists, tuples) element-wise into a single iterable of tuples. It takes pairs of elements from each list at a time and stops at the shortest iterable if length differs.\n",
    "\n",
    "**Example**:"
   ]
  },
  {
   "cell_type": "code",
   "execution_count": 47,
   "metadata": {},
   "outputs": [
    {
     "name": "stdout",
     "output_type": "stream",
     "text": [
      "[('Om', 95), ('Rahul', 85), ('Ram', 90)]\n"
     ]
    }
   ],
   "source": [
    "\n",
    "names = ['Om', 'Rahul', 'Ram']\n",
    "scores = [95, 85, 90]\n",
    "\n",
    "zipped = zip(names, scores)\n",
    "print(list(zipped)) "
   ]
  },
  {
   "cell_type": "markdown",
   "metadata": {},
   "source": []
  },
  {
   "cell_type": "code",
   "execution_count": null,
   "metadata": {},
   "outputs": [],
   "source": []
  }
 ],
 "metadata": {
  "kernelspec": {
   "display_name": "base",
   "language": "python",
   "name": "python3"
  },
  "language_info": {
   "codemirror_mode": {
    "name": "ipython",
    "version": 3
   },
   "file_extension": ".py",
   "mimetype": "text/x-python",
   "name": "python",
   "nbconvert_exporter": "python",
   "pygments_lexer": "ipython3",
   "version": "3.12.4"
  }
 },
 "nbformat": 4,
 "nbformat_minor": 2
}
