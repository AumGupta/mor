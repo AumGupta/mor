{
 "cells": [
  {
   "cell_type": "markdown",
   "metadata": {},
   "source": [
    "### 1. a) Give the difference between type casting and automatic type conversion. Also, give a suitable Python code to illustrate both.\n",
    "\n",
    "| Feature | Type Casting | Automatic Type Conversion |\n",
    "|-|-|-|\n",
    "| **Definition** | Explicit conversion by the programmer. | Implicit conversion by Python (PVM). |\n",
    "| **Control** | Requires explicit instructions (e.g., `int()`, `float()`). | Happens automatically during operations. |\n",
    "| **Example**  | `int(\"123\")` converts string to integer.  | Adding `5 + 3.2` converts `5` to float. |"
   ]
  },
  {
   "cell_type": "markdown",
   "metadata": {},
   "source": [
    "---"
   ]
  },
  {
   "cell_type": "markdown",
   "metadata": {},
   "source": [
    "### 1. b) Describe about syntax error, runtime error and logical error.\n",
    "\n",
    "| Aspect                | **Syntax Errors**                          | **Runtime Errors**                         | **Semantic (Logical) Errors**              |\n",
    "|-----------------------|--------------------------------------------|-------------------------------------------|--------------------------------------------|\n",
    "| **Definition**        | Errors in the code structure or syntax that prevent execution. | Errors that occur during program execution (Exceptions). | Errors in logic that lead to incorrect results despite successful execution. |\n",
    "| **When Detected**     | Before execution (During the compilation or interpretation phase). | During excution.              | After execution (During testing phase). |\n",
    "| **Cause**             | Violations of language rules. | Invalid operations (e.g., division by zero, accessing undefined variables). | Flaws in program logic/Algorithm leading to unexpected ouputs. |\n",
    "| **Examples**          | `if x = 5:` (should be `if x == 5:`)       | `print(5 / 0)` (division by zero)          | Calculating the area of a rectangle as `length + width` instead of `length * width`. |\n",
    "| **Resolution**        | Fix the syntax to adhere to language rules. | Exception handling. | Correct the logic or algorithm.            |\n"
   ]
  },
  {
   "cell_type": "markdown",
   "metadata": {},
   "source": [
    "---"
   ]
  },
  {
   "cell_type": "markdown",
   "metadata": {},
   "source": [
    "### 1. d) Write an iterative program (non-recursive) that asks the user to enter an integer and computes the factorial Of that integer, usually written n! in mathematics."
   ]
  },
  {
   "cell_type": "code",
   "execution_count": 77,
   "metadata": {},
   "outputs": [],
   "source": [
    "def factorial(n:int)->int:\n",
    "    assert n>=0, \"n should be a positive integers.\"\n",
    "    f = 1\n",
    "    for i in range(1, n+1):\n",
    "        f *= i\n",
    "    return f"
   ]
  },
  {
   "cell_type": "code",
   "execution_count": 78,
   "metadata": {},
   "outputs": [
    {
     "data": {
      "text/plain": [
       "120"
      ]
     },
     "execution_count": 78,
     "metadata": {},
     "output_type": "execute_result"
    }
   ],
   "source": [
    "factorial(5)"
   ]
  },
  {
   "cell_type": "markdown",
   "metadata": {},
   "source": [
    "### 2. a) How multiple inheritance is different from multi-level inheritance? Explain with the help of example."
   ]
  },
  {
   "cell_type": "code",
   "execution_count": 79,
   "metadata": {},
   "outputs": [],
   "source": [
    "# Multiple Inheritence\n",
    "class A:\n",
    "    name = \"A\"\n",
    "    \n",
    "class B:\n",
    "    name = \"B\"\n",
    "\n",
    "class C(A,B):\n",
    "    name = \"C\""
   ]
  },
  {
   "cell_type": "code",
   "execution_count": 80,
   "metadata": {},
   "outputs": [
    {
     "data": {
      "text/plain": [
       "(__main__.C, __main__.A, __main__.B, object)"
      ]
     },
     "execution_count": 80,
     "metadata": {},
     "output_type": "execute_result"
    }
   ],
   "source": [
    "C.__mro__"
   ]
  },
  {
   "cell_type": "code",
   "execution_count": 81,
   "metadata": {},
   "outputs": [],
   "source": [
    "# Multi-level Inheritence\n",
    "class A:\n",
    "    name = \"A\"\n",
    "\n",
    "class B(A):\n",
    "    name = \"B\"\n",
    "\n",
    "class C(B):\n",
    "    name = \"C\""
   ]
  },
  {
   "cell_type": "code",
   "execution_count": 82,
   "metadata": {},
   "outputs": [
    {
     "data": {
      "text/plain": [
       "(__main__.C, __main__.B, __main__.A, object)"
      ]
     },
     "execution_count": 82,
     "metadata": {},
     "output_type": "execute_result"
    }
   ],
   "source": [
    "C.__mro__"
   ]
  },
  {
   "cell_type": "markdown",
   "metadata": {},
   "source": [
    "> Python resolves multiple inheritances using the C3 linearization algorithm to determine the Method Resolution Order (MRO). This algorithm ensures that the inheritance order is consistent and that each class appears before its parents."
   ]
  },
  {
   "cell_type": "markdown",
   "metadata": {},
   "source": [
    "### 2. b) Explain the main features of an object oriented programming language."
   ]
  },
  {
   "cell_type": "markdown",
   "metadata": {},
   "source": [
    "1. **Encapsulation**: Groups data and methods into objects to limit direct access.\n",
    "2. **Abstraction**: Hides complex implementation details and exposes only essential features.\n",
    "3. **Inheritance**: Enables new classes to derive attributes and methods from existing ones.\n",
    "4. **Polymorphism**: Allows methods to have different implementations based on the context.\n",
    "5. **Modularity**: Promotes reusable, organized, and manageable code."
   ]
  },
  {
   "cell_type": "code",
   "execution_count": null,
   "metadata": {},
   "outputs": [],
   "source": []
  },
  {
   "cell_type": "markdown",
   "metadata": {},
   "source": []
  }
 ],
 "metadata": {
  "kernelspec": {
   "display_name": "base",
   "language": "python",
   "name": "python3"
  },
  "language_info": {
   "codemirror_mode": {
    "name": "ipython",
    "version": 3
   },
   "file_extension": ".py",
   "mimetype": "text/x-python",
   "name": "python",
   "nbconvert_exporter": "python",
   "pygments_lexer": "ipython3",
   "version": "3.12.4"
  }
 },
 "nbformat": 4,
 "nbformat_minor": 2
}
