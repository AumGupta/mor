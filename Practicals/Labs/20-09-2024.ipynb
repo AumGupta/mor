{
 "cells": [
  {
   "cell_type": "markdown",
   "metadata": {},
   "source": [
    "1. WAP to determine EOQ using the basic 4 models"
   ]
  },
  {
   "cell_type": "code",
   "execution_count": 60,
   "metadata": {},
   "outputs": [],
   "source": [
    "from math import sqrt"
   ]
  },
  {
   "cell_type": "code",
   "execution_count": 61,
   "metadata": {},
   "outputs": [],
   "source": [
    "from abc import ABC, abstractmethod\n",
    "class DetModels(ABC):\n",
    "    @abstractmethod\n",
    "    def get_quantity():\n",
    "        pass\n",
    "    @abstractmethod\n",
    "    def get_total_cost():\n",
    "        pass\n",
    "    def get_cycle_time(self, Q, lam):\n",
    "        return Q/lam\n",
    "\n",
    "class EOQ(DetModels):\n",
    "    def get_quantity(self, A, lam, I, C):\n",
    "        return int(sqrt((2*A*lam)/(I*C)))\n",
    "    def get_total_cost(self, A, lam, I, C, Q):\n",
    "        holding_cost = (I * C * (Q / 2))\n",
    "        ordering_cost = A * (lam / Q)\n",
    "        total_cost = holding_cost + ordering_cost\n",
    "        return total_cost\n",
    "    \n",
    "class EPQ(DetModels):\n",
    "    def get_quantity(self, A, lam, I, C, si):\n",
    "        return int(sqrt((2*A*lam*si)/(I*C*(si-lam))))\n",
    "    def get_total_cost(self, A, lam, I, C, Q, si):\n",
    "        holding_cost = (I * C * Q * (si - lam)) / (2 * si)\n",
    "        setup_cost = A * (lam / Q)\n",
    "        total_cost = holding_cost + setup_cost\n",
    "        return total_cost\n",
    "\n",
    "class EOQ_Short(DetModels):\n",
    "    def get_quantity(self, A, lam, I, C, pi):\n",
    "        return int(sqrt((2*A*lam*(pi + I*C))/(I*C*pi)))\n",
    "    def get_total_cost(self, A, lam, I, C, Q, pi):\n",
    "        Q_r = Q * (I * C) / (pi + I * C)\n",
    "        holding_cost = I * C * (Q / 2)\n",
    "        ordering_cost = A * (lam / Q)\n",
    "        shortage_cost = pi * (Q - Q_r) / 2\n",
    "        total_cost = holding_cost + ordering_cost + shortage_cost\n",
    "        return total_cost\n",
    "    \n",
    "class EPQ_Short(DetModels):\n",
    "    def get_quantity(self, A, lam, I, C, si, pi):\n",
    "        return int(sqrt((2*A*lam*(pi + I*C)*si)/(I*C*pi*(si-lam))))\n",
    "    def get_total_cost(self, A, lam, I, C, Q, si, pi):\n",
    "        Q_r = Q * (I * C) / (pi + I * C)\n",
    "        holding_cost = (I * C * Q * (si - lam)) / (2 * si)\n",
    "        setup_cost = A * (lam / Q)\n",
    "        shortage_cost = pi * (Q - Q_r) / 2\n",
    "        total_cost = holding_cost + setup_cost + shortage_cost\n",
    "        return total_cost"
   ]
  },
  {
   "cell_type": "code",
   "execution_count": 62,
   "metadata": {},
   "outputs": [
    {
     "name": "stdout",
     "output_type": "stream",
     "text": [
      "Quantity = 223 units\n",
      "Total Cost = $8944.30\n",
      "Cycle Time = 8.14 days\n"
     ]
    }
   ],
   "source": [
    "my_eoq = EOQ()\n",
    "# A = int(input(\"Enter Order Cost: \"))\n",
    "# lam = int(input(\"Enter Demand: \"))\n",
    "# I = int(input(\"Enter Inventory Percent: \"))\n",
    "# C = int(input(\"Enter Cost per Unit Item: \"))\n",
    "A = 100\n",
    "lam = 10000\n",
    "I = 0.2\n",
    "C = 200\n",
    "\n",
    "Q = my_eoq.get_quantity(A, lam, I, C)\n",
    "tc = my_eoq.get_total_cost(A, lam, I, C, Q)\n",
    "T = my_eoq.get_cycle_time(Q, lam)\n",
    "print(f\"Quantity = {Q} units\")\n",
    "print(f\"Total Cost = ${tc:2.2f}\")\n",
    "print(f\"Cycle Time = {T*365:2.2f} days\")"
   ]
  },
  {
   "cell_type": "code",
   "execution_count": 63,
   "metadata": {},
   "outputs": [
    {
     "name": "stdout",
     "output_type": "stream",
     "text": [
      "Quantity = 547 units\n",
      "Total Cost = $8944.30\n",
      "Cycle Time = 8.14 days\n"
     ]
    }
   ],
   "source": [
    "my_epq = EPQ()\n",
    "si = 12000\n",
    "Q2 = my_epq.get_quantity(A, lam, I, C, si)\n",
    "tc = my_epq.get_total_cost(A, lam, I, C, Q)\n",
    "T = my_epq.get_cycle_time(Q, lam)\n",
    "print(f\"Quantity = {Q2} units\")\n",
    "print(f\"Total Cost = ${tc:2.2f}\")\n",
    "print(f\"Cycle Time = {T*365:2.2f} days\")"
   ]
  },
  {
   "cell_type": "code",
   "execution_count": 64,
   "metadata": {},
   "outputs": [
    {
     "name": "stdout",
     "output_type": "stream",
     "text": [
      "Quantity = 1024 units\n",
      "Total Cost = $8944.30\n",
      "Cycle Time = 8.14 days\n"
     ]
    }
   ],
   "source": [
    "my_eoq_short = EOQ_Short()\n",
    "pi = 2\n",
    "Q3 = my_eoq_short.get_quantity(A, lam, I, C, pi)\n",
    "tc = my_eoq_short.get_total_cost(A, lam, I, C, Q)\n",
    "T = my_eoq_short.get_cycle_time(Q, lam)\n",
    "print(f\"Quantity = {Q3} units\")\n",
    "print(f\"Total Cost = ${tc:2.2f}\")\n",
    "print(f\"Cycle Time = {T*365:2.2f} days\")"
   ]
  },
  {
   "cell_type": "code",
   "execution_count": 65,
   "metadata": {},
   "outputs": [
    {
     "name": "stdout",
     "output_type": "stream",
     "text": [
      "Quantity = 2509 units\n",
      "Total Cost = $8944.30\n",
      "Cycle Time = 8.14 days\n"
     ]
    }
   ],
   "source": [
    "my_epq_short = EPQ_Short()\n",
    "pi = 2\n",
    "si = 12000\n",
    "Q4 = my_epq_short.get_quantity(A, lam, I, C, si, pi)\n",
    "tc = my_epq_short.get_total_cost(A, lam, I, C, Q)\n",
    "T = my_epq_short.get_cycle_time(Q, lam)\n",
    "print(f\"Quantity = {Q4} units\")\n",
    "print(f\"Total Cost = ${tc:2.2f}\")\n",
    "print(f\"Cycle Time = {T*365:2.2f} days\")"
   ]
  },
  {
   "cell_type": "code",
   "execution_count": 91,
   "metadata": {},
   "outputs": [
    {
     "data": {
      "image/png": "[encoded data removed]",
      "text/plain": [
       "<Figure size 600x600 with 1 Axes>"
      ]
     },
     "metadata": {},
     "output_type": "display_data"
    }
   ],
   "source": [
    "import matplotlib.pyplot as plt\n",
    "\n",
    "l = [Q, Q2, Q3, Q4]\n",
    "names = [\"EOQ\", \"EPQ\", \"EOQ Shortage\", \"EPQ Shortage\"]\n",
    "\n",
    "plt.figure(figsize=(6,6))\n",
    "plt.bar(names, l, color = 'r',edgecolor='k',linewidth=2)\n",
    "plt.ylabel(\"Qty\")\n",
    "plt.xlabel(\"Deterministic Models\")\n",
    "plt.title(\"MODEL COMPARISON OF QUANTITY ORDERED\")\n",
    "plt.show()"
   ]
  },
  {
   "cell_type": "code",
   "execution_count": null,
   "metadata": {},
   "outputs": [],
   "source": []
  },
  {
   "cell_type": "markdown",
   "metadata": {},
   "source": [
    "3. WAP to implement inheritence. Create a class Employee and inherit two classes namely Manager and Clerk from employee."
   ]
  },
  {
   "cell_type": "code",
   "execution_count": null,
   "metadata": {},
   "outputs": [],
   "source": []
  }
 ],
 "metadata": {
  "kernelspec": {
   "display_name": "Python 3",
   "language": "python",
   "name": "python3"
  },
  "language_info": {
   "codemirror_mode": {
    "name": "ipython",
    "version": 3
   },
   "file_extension": ".py",
   "mimetype": "text/x-python",
   "name": "python",
   "nbconvert_exporter": "python",
   "pygments_lexer": "ipython3",
   "version": "3.8.0"
  }
 },
 "nbformat": 4,
 "nbformat_minor": 2
}
