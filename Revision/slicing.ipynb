{
 "cells": [
  {
   "cell_type": "markdown",
   "metadata": {},
   "source": [
    "# Algorithm: Python List Slicing\n",
    "\n",
    "## Given a list `lst` and slicing notation `lst[start:stop:step]`:\n",
    "\n",
    "### 1. Set Defaults:\n",
    "- If `start` is **omitted**, it defaults to:\n",
    "  - `0` (if `step` is positive).\n",
    "  - `-1` (if `step` is negative).\n",
    "- If `stop` is **omitted**, it defaults to:\n",
    "  - `len(lst)` (if `step` is positive).\n",
    "  - `-len(lst)-1` (if `step` is negative).\n",
    "- If `step` is **omitted**, it defaults to `1`.\n",
    "\n",
    "### 2. Determine Direction:\n",
    "- If `step > 0`, slice moves **forward** through the list.\n",
    "- If `step < 0`, slice moves **backward** through the list.\n",
    "\n",
    "### 3. Adjust Indices:\n",
    "- If `start` or `stop` is **negative**, add `len(lst)` to convert it to a positive index.\n",
    "- Clamp `start` and `stop` within:\n",
    "  - `[0, len(lst)]` if `step > 0`.\n",
    "  - `[-1, -len(lst)-1]` if `step < 0`.\n",
    "\n",
    "### 4. Generate Result:\n",
    "- Begin at `start` and move in steps of `step`.\n",
    "- Stop **before** reaching `stop`.\n",
    "\n",
    "### 5. Return:\n",
    "- A new list containing the selected elements.\n",
    "\n",
    "---\n",
    "\n",
    "\n",
    "The general term for the output list is:\n",
    "\n",
    "$$\n",
    "L[i] \\text{ where } i = \\text{start} + k \\cdot \\text{step}, \\, k \\in \\mathbb{Z}, \\text{ and } \\text{start} + k \\cdot \\text{step} < \\text{stop} \\text{ (if step > 0)} \\text{ or } > \\text{stop} \\text{ (if step < 0)}.\n",
    "$$\n",
    "\n"
   ]
  },
  {
   "cell_type": "markdown",
   "metadata": {},
   "source": [
    "> **Inshort**\\\n",
    "`l[start:stop:step]`\n",
    ">\n",
    ">`start` -> starting index [Value included in output]\\\n",
    "`stop`  -> stopping index [Value NOT included in output]\\\n",
    "`step`  tells the step by which to move and\\\n",
    "sign of `step` tells in which direction to move."
   ]
  },
  {
   "cell_type": "code",
   "execution_count": 28,
   "metadata": {},
   "outputs": [
    {
     "name": "stdout",
     "output_type": "stream",
     "text": [
      "length: 7\n",
      "[0, 1, 2, 3, 4, 5, 6]\n",
      " 0  1  2  3  4  5  6  <- Positive Index\n",
      "-7 -6 -5 -4 -3 -2 -1  <- Negative Index\n"
     ]
    }
   ],
   "source": [
    "l = [0,1,2,3,4,5,6]\n",
    "\n",
    "print(\"length:\",len(l))\n",
    "print(l)\n",
    "print(\" \", end=\"\")\n",
    "for i in range(len(l)):\n",
    "    print(i,end=\"  \")\n",
    "print(\"<- Positive Index\")\n",
    "for i in range(-len(l),0):\n",
    "    print(i,end=\" \")\n",
    "print(\" <- Negative Index\")"
   ]
  },
  {
   "cell_type": "code",
   "execution_count": 29,
   "metadata": {},
   "outputs": [
    {
     "data": {
      "text/plain": [
       "[4, 3, 2]"
      ]
     },
     "execution_count": 29,
     "metadata": {},
     "output_type": "execute_result"
    }
   ],
   "source": [
    "l[-3:1:-1]"
   ]
  }
 ],
 "metadata": {
  "kernelspec": {
   "display_name": "base",
   "language": "python",
   "name": "python3"
  },
  "language_info": {
   "codemirror_mode": {
    "name": "ipython",
    "version": 3
   },
   "file_extension": ".py",
   "mimetype": "text/x-python",
   "name": "python",
   "nbconvert_exporter": "python",
   "pygments_lexer": "ipython3",
   "version": "3.12.4"
  }
 },
 "nbformat": 4,
 "nbformat_minor": 2
}
